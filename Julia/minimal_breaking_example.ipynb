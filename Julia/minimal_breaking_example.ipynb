{
 "cells": [
  {
   "cell_type": "markdown",
   "metadata": {},
   "source": [
    "## Trying to get un-stuck on a seemingly simple ODE  problem"
   ]
  },
  {
   "cell_type": "code",
   "execution_count": 2,
   "metadata": {},
   "outputs": [
    {
     "data": {
      "text/plain": [
       "quadprog_exactSolve (generic function with 2 methods)"
      ]
     },
     "execution_count": 2,
     "metadata": {},
     "output_type": "execute_result"
    }
   ],
   "source": [
    "# using JuMP\n",
    "# using Ipopt\n",
    "using DataFrames, CSV\n",
    "using Plots\n",
    "using DifferentialEquations\n",
    "using Distributions\n",
    "using NLsolve\n",
    "using ForwardDiff\n",
    "\n",
    "include(\"fast_quadprog.jl\")\n"
   ]
  },
  {
   "cell_type": "markdown",
   "metadata": {},
   "source": [
    "### Note: \n",
    "The `fast_quadprog.jl` file can be found [here](https://github.com/shoshievass/PublicFiles/blob/master/Julia/fast_quadprog.jl)."
   ]
  },
  {
   "cell_type": "markdown",
   "metadata": {},
   "source": [
    "### Overview\n",
    "This notebook details a \"simple\" procurement auction equilibrium computation, for auctions of the form described [here](https://scholar.harvard.edu/files/vasserman/files/bv_sept2019.pdf).\n",
    "\n",
    "For some shorter notes working out the math for this example in full see [here](https://github.com/shoshievass/PublicFiles/blob/master/Julia/baseline_equilibrium_derivation_risk_aversion_note.pdf). For a better high-level explanation of what's going on, aimed at extending this model to a two-dimensional type version, see [here](https://github.com/shoshievass/PublicFiles/blob/master/Julia/asymmetric_two_type_problem.pdf).\n",
    "\n",
    "I present the ODE and a working solution, using an upper bound as an initial condition. I then try to solve the ODE in the \"inverse\", using a guessed lower bound as an initial condition. \n",
    "\n",
    "The reason for trying to solve the inverse problem is that I ultimately want to solve a boundary-value problem where two ODEs of this form need to be solved simultaneously subject to having the same values at the boundaries. One way to try to solve the boundary value problem is to use a shooting algorithm in which I solve the two inverse ODE problems with guessed initial values and check if they match at the upper boundary.\n",
    "\n",
    "Currently, the inverse problem doesn't work -- most likely for numerical reasons that I don't understand."
   ]
  },
  {
   "cell_type": "markdown",
   "metadata": {},
   "source": [
    "### The ODE\n",
    "\n",
    "The ODE problem maps a bounded interval of \"types\" $\\alpha \\in \\left[ \\underline{\\alpha}, \\overline{\\alpha} \\right]$ to \"scores\" $s \\in \\left[ \\underline{s}, \\overline{s} \\right]$ according to the differential equations:\n",
    "\n",
    "$$\n",
    "s'(\\alpha) = \\frac{f(\\alpha)}{1-F(\\alpha)} \\cdot \\frac{V(s, \\alpha, p)}{V'(s , \\alpha, p)}\n",
    "$$\n",
    "\n",
    "Here:\n",
    "- $f(\\alpha)$ and $F(\\alpha)$ are the pdf and cdf of the distrubiton with which the types $\\alpha$ are distributed -- which we will assume is a uniform distribution for simplicity. \n",
    "\n",
    "- That is, $f(x) = \\frac{1}{\\overline{\\alpha} - \\underline{\\alpha}}$ and $F(x) = \\frac{x - \\underline{\\alpha}}{\\overline{\\alpha} - \\underline{\\alpha}}$ \n",
    "\n",
    "- $ V(s , \\alpha, p) $ is a \"value function\" evaluated at $s, \\alpha$ and a vector of parameters $p$. More details on this in a bit.\n",
    "\n",
    "- $V'(s , \\alpha, p) = \\frac{\\partial V}{\\partial s} V(s , \\alpha, p)$ is the derivative of the value function with respect to s."
   ]
  },
  {
   "cell_type": "markdown",
   "metadata": {},
   "source": [
    "### Multiple (Asymmetric) Gamma Problem\n",
    "\n",
    "The problem described above has an additional latent parameter that is treated as fixed: $\\gamma$. \n",
    "\n",
    "For my current endeavor, I need to solve a closely related problem where there are multiple types of $\\gamma$. The tricky thing is that in order for each $\\gamma$ type's ODE to be well defined, they need to be \"in equilibrium with each other\".\n",
    "\n",
    "#### The Problem Definition\n",
    "\n",
    "There are $N=2$ types of bidders $i$, each of whom has some value of $\\gamma$. \n",
    "\n",
    "We are interested in solving for the \"equilibrium bidding\" function that maps each possible type $(\\tilde{\\alpha}, {\\gamma}_i)$ to a \"score\" $s_i(\\tilde{\\alpha}, {\\gamma}_i)$. \n",
    "\n",
    "We can think the \"score\" function as a map:\n",
    "$$\n",
    "s_i : [\\underline{\\alpha}, \\overline{\\alpha}] \\rightarrow [\\underline{S}, \\overline{S}]\n",
    "$$\n",
    "\n",
    "where each of $[\\underline{\\alpha}, \\overline{\\alpha}]$ and $[\\underline{S}, \\overline{S}]$ are subsets of $\\mathbb{R}_{+}$. \n",
    "\n",
    "In order for a prospective \"score\" function to be an equilibrium, it needs maximize the \"expected utility\" from participating in the auction for each possible bidder type $(\\tilde{\\alpha}, \\tilde{\\gamma})$ --- let's call this $EU(\\tilde{\\alpha}, {\\gamma}_i, s_i(\\tilde{\\alpha}))$.\n",
    "\n",
    "This is the product of the (expected) utility that the bidder would get from completing the project if he wins (given his bid) times the probability that he wins.\n",
    "\n",
    "$$\n",
    "EU_i(\\tilde{\\alpha}, {\\gamma}_i, s_i(\\tilde{\\alpha}, {\\gamma}_i)) = \\text{E}[u(\\pi(\\tilde{\\alpha}, {\\gamma}_i, s_i(\\tilde{\\alpha}, {\\gamma}_i))) \\text{ | win}] \\times \\text{Pr(win | } s_i(\\tilde{\\alpha}) \\text{ )}\n",
    "$$\n"
   ]
  },
  {
   "cell_type": "markdown",
   "metadata": {},
   "source": [
    "The rules of the auction are that the bidder with the **lowest** score wins the auction. Thus, we can write \n",
    "$$\n",
    "\\text{Pr(win | } s(\\tilde{\\alpha}, \\tilde{\\gamma}) \\text{ )} = \\text{Pr(} s(\\tilde{\\alpha}, \\tilde{\\gamma}) < \\text{ all other bidders' scores)}\n",
    "$$\n",
    "\n",
    "That is, the probability that bidder $i$ will win using a score $s_i(\\tilde{\\alpha})$ is the probability that the other bidder $j$ will bid a higher score than that.\n",
    "\n",
    "**Crucially** in equilibrium, the bidders are \"best responding\" to each other's score functions. \n",
    "\n",
    "That is:\n",
    "$$\n",
    "\\text{Pr(} s(\\tilde{\\alpha}, \\tilde{\\gamma}) < \\text{ all other bidders' scores)} = \n",
    "\\text{Pr(} s_i(\\tilde{\\alpha}) < s_j(\\alpha_j) \\text{ )} \\\\ =\n",
    "\\text{Pr(} s_j^{-1}(s_i(\\tilde{\\alpha})) < \\alpha_j \\text{ )}\n",
    "$$\n",
    "\n",
    "where $\\alpha_j$ is an IID random draw from the distribution of $\\alpha$.\n",
    "\n",
    "Writing $$\n",
    "V(s, \\hat{\\alpha}, \\gamma_i, p) \\equiv \\text{E}[u(\\pi(\\tilde{\\alpha}, {\\gamma}_i, s_i(\\hat{\\alpha}))) \\text{ | win}]\n",
    "$$\n",
    "for notational ease, we can rewrite the expected utility equation above:\n",
    "\n",
    "$$\n",
    "EU_i(\\tilde{\\alpha}, {\\gamma}_i, s_i(\\tilde{\\alpha})) = V_i(s, \\hat{\\alpha}, \\gamma_i, p) \\times \\text{Pr(} s_j^{-1}(s_i(\\tilde{\\alpha})) < \\alpha_j \\text{ )}.\n",
    "$$\n",
    "\n",
    "We can then derive the system of differential equations by taking the first order condition:\n",
    "\n",
    "### Boundary Value Problem ODE Definition\n",
    "\n",
    "Denote $\\psi_i(\\tilde{s}) = s_i^{-1}(\\tilde{s})$ for the inverse function of the mapping $s_i$.\n",
    "\n",
    "$$\n",
    "\\psi_i'(s_j) = \\frac{1-F(\\psi_i(s_j))}{f(\\psi_i(s_j))} \\cdot \\frac{V(s_j, \\alpha_j, p)}{V'(s_j , \\alpha_j, p)}\n",
    "$$\n",
    "\n",
    "and\n",
    "\n",
    "$$\n",
    "\\psi_j'(s_i) = \\frac{1-F(\\psi_j(s_i))}{f(\\psi_j(s_i))} \\cdot \\frac{V(s_i, \\alpha_j, p)}{V'(s_i , \\alpha_i, p)}\n",
    "$$\n",
    "\n",
    "where:\n",
    "- $f(\\alpha)$ and $F(\\alpha)$ are the pdf and cdf of the distrubiton with which the types $\\alpha$ are distributed -- which we will assume is a uniform distribution for simplicity. \n",
    "\n",
    "- That is, $f(x) = \\frac{1}{\\overline{\\alpha} - \\underline{\\alpha}}$ and $F(x) = \\frac{x - \\underline{\\alpha}}{\\overline{\\alpha} - \\underline{\\alpha}}$ \n",
    "\n",
    "- $ V(s , \\alpha, p) $ is a \"value function\" evaluated at $s, \\alpha$ and a vector of parameters $p$. More details on this in a bit.\n",
    "\n",
    "- $V'(s , \\alpha, p) = \\frac{\\partial V}{\\partial s} V(s , \\alpha, p)$ is the derivative of the value function with respect to s.\n",
    "\n",
    "#### Boundary Conditions\n",
    "\n",
    "What makes this a boundary problem is:\n",
    "1. The ODEs for $i$ and $j$ have to be solved together\n",
    "2. Both boundary scores have to be the same: \n",
    "\n",
    "$$\n",
    "\\psi_i(\\overline{S}) = \\psi_j(\\overline{S}) = \\overline{\\alpha} \\text{ and } \\psi_i(\\underline{S}) = \\psi_j(\\underline{S}) = \\underline{\\alpha}\n",
    "$$\n",
    "or equivalently:\n",
    "$$ \n",
    "s_i(\\overline{\\alpha}) = s_j(\\overline{\\alpha}) \\text{  and  } s_i(\\underline{\\alpha}) = s_j(\\underline{\\alpha})\n",
    "$$\n",
    "3. There is a known initial condition that (supposing that $\\gamma_j < \\gamma_i$): \n",
    "    - $s_i(\\overline{\\alpha})$ must be the smallest value of $s$ s.t. $V(s , \\overline{\\alpha}, p) = 0$"
   ]
  },
  {
   "cell_type": "code",
   "execution_count": 3,
   "metadata": {},
   "outputs": [
    {
     "data": {
      "text/plain": [
       "ds_da_ode (generic function with 1 method)"
      ]
     },
     "execution_count": 3,
     "metadata": {},
     "output_type": "execute_result"
    }
   ],
   "source": [
    "function ds_da_ode( s, γ, α, params)\n",
    "        \n",
    "#     f_over_oneMinusF = f_over_F_uniform(α, 0.5, 2.0)\n",
    "    f_over_oneMinusF = f_over_one_minus_F_lognormal_dist(α, 0., 0.12, 0.5, 2.01)\n",
    "\n",
    "    V_over_dV = getFracVdV(s, γ, α, params)\n",
    "    \n",
    "    ds_da = f_over_oneMinusF * V_over_dV; # Note: this should be a scalar\n",
    "    \n",
    "    return(ds_da)\n",
    "\n",
    "end"
   ]
  },
  {
   "cell_type": "markdown",
   "metadata": {},
   "source": [
    "#### More Details\n",
    "\n",
    "- Note that $\\frac{f(\\alpha)}{1-F(\\alpha)}$ must be zero outside the support of $\\alpha$. We define this below.\n",
    "\n",
    "- The value function here is a bit complicated -- it requires solving a (simple) constrained quadratic formula to define:\n",
    "\n",
    "$$\n",
    "\\begin{array}{c}V(s , \\alpha, \\mathbf{p}) = \\arg\\max\\limits_{\\{{b_t}(s)\\}_t} \\left[1-\\exp \\left(\\sum_{t=1}^{T} \\frac{\\gamma^{2} \\sigma_t^{2}}{2}\\left(b_{t}(s)-\\alpha c_{t}\\right)^{2}-\\gamma q_{t}^{a}\\left(b_{t}(s)-\\alpha c_{t}\\right)\\right)\\right] \\\\ \\text { s.t. } \\sum_{t=1}^{T} b_{t}(s) q_{t}^{e}=s \\\\ \\text { and } b_{t} \\geq 0 \\text { for each } t\\end{array}\n",
    "$$\n",
    "\n",
    "where the parameter vector $ \\mathbf{p}$ includes a whole bunch of parameters: $$ \\mathbf{p} = \\Big\\{ \\gamma, \\{q_{t}^{a}\\}_t,  \\{q_{t}^{e}\\}_t,\\{\\sigma_{t}^{2}\\}_t \\text{ and }  \\{c_{t}\\}_t  \\Big\\}$$\n",
    "\n",
    "But we can solve this problem numerically for the vector of \"bids\" $b_{t}^{\\ast}(s)$. Note that the optimal $b^{\\ast}$ solution depends not just on $s$ but on $\\alpha$ and all of the other parameters too, but we will keep everything except $s$ and $\\alpha$ fixed for our ODE computation and for each $\\alpha$ we will choose a single $s$."
   ]
  },
  {
   "cell_type": "code",
   "execution_count": 4,
   "metadata": {},
   "outputs": [
    {
     "data": {
      "text/plain": [
       "getFracVdV (generic function with 1 method)"
      ]
     },
     "execution_count": 4,
     "metadata": {},
     "output_type": "execute_result"
    }
   ],
   "source": [
    "function f_over_one_minus_F_uniform(z, a, b)\n",
    "    if z < a \n",
    "        out = 0\n",
    "    elseif z >= b\n",
    "        out = 0\n",
    "    else \n",
    "        out =  1.0/(b - z) \n",
    "    end\n",
    "end\n",
    "\n",
    "function f_over_one_minus_F_lognormal_dist(z, mu, sigma, a, b)\n",
    "    alpha_dist = LogNormal(mu,sigma)\n",
    "\n",
    "    f(x) = pdf(alpha_dist, x);\n",
    "    F(x) = cdf(alpha_dist, x);\n",
    "    \n",
    "    out = (f(z) ./ (1 - F(z) - 0.000000001))\n",
    "    \n",
    "    return(out)\n",
    "end\n",
    "\n",
    "function getBidStar(s, γ, α, params)\n",
    "    c, q_e, q_a, sigma_sq  = params\n",
    "    \n",
    "    T = length(q_e)\n",
    "    \n",
    "    b_tilde =  (γ * 0.5) * sigma_sq \n",
    "    a_tilde = (q_a + (γ * α * c) .* sigma_sq)\n",
    "    s_tilde = s\n",
    "    q_tilde = q_e\n",
    "    \n",
    "    sol = quadprog_exactSolve(a_tilde,b_tilde,q_tilde,s_tilde)\n",
    "    \n",
    "    return(sol)\n",
    "end\n",
    "\n",
    "\n",
    "function getDbDs_ForwardDiff(s, γ, α, params)\n",
    "#     %Computes anayltical derivative of the optimal bid function of item t\n",
    "#     % w.r.t. score s given α\n",
    "\n",
    "    b_opt_of_s = x -> getBidStar(x, γ, α, params) ## change order\n",
    "    \n",
    "    db_ds = ForwardDiff.derivative(b_opt_of_s, s)\n",
    "\n",
    "    return(db_ds)\n",
    "\n",
    "end\n",
    "\n",
    "function getDbDs(s, γ, α, b, params)\n",
    "#     %Computes anayltical derivative of the optimal bid function of item t\n",
    "#     % w.r.t. score s given alpha\n",
    "    \n",
    "    c, q_e, q_a, sigma_sq  = params\n",
    "\n",
    "    T = length(q_e)\n",
    "    pos_b = [ifelse(b[t] > 0, 1, 0) for t=1:T]\n",
    "\n",
    "    if (sum(sigma_sq) > 0)\n",
    "        denom = 1.0/(sum((q_e[t]^2 * pos_b[t]) / sigma_sq[t] for t in 1:T))\n",
    "        db_ds = [((q_e[t] * pos_b[t] / sigma_sq[t]) * denom) for t in 1:T]'\n",
    "    else\n",
    "        db_ds = [ifelse(b[t] > 0, (1.0/q_e[t]), 0) for t=1:T]'\n",
    "    end\n",
    "\n",
    "    return(db_ds)\n",
    "\n",
    "end\n",
    "\n",
    "function getFracVdV(s, γ, α, params)\n",
    "    \n",
    "    c, q_e, q_a, sigma_sq  = params\n",
    "                                                                \n",
    "    b = getBidStar( s, γ, α, params)\n",
    "    db_ds = getDbDs_ForwardDiff(s, γ, α, params)\n",
    "#     @show db_ds = getDbDs( s, γ, α, b, params)\n",
    "\n",
    "    b_min_c = b - (α*c);\n",
    "\n",
    "    profit_ce = (q_a' * b_min_c) - (γ)*0.5 * ((sigma_sq .* b_min_c)' * b_min_c)\n",
    "        \n",
    "    profit_term = exp(γ*profit_ce) - 1; \n",
    "    \n",
    "    dce = db_ds' * ((γ .* q_a) - (γ^2 .* sigma_sq .* b_min_c) );\n",
    "        \n",
    "    V_over_dV = profit_term / dce;\n",
    "    \n",
    "    return(V_over_dV)\n",
    "    \n",
    "end\n"
   ]
  },
  {
   "cell_type": "markdown",
   "metadata": {},
   "source": [
    "### Adding a Boundary Condition\n",
    "\n",
    "To fully define this ODE problem we need an initial condition. For this problem, there is one point at which we know the solution: the \"right\" boundary.\n",
    "\n",
    "From the economic theory, we must have the highest type of bidder, $\\overline{\\alpha}$ gets a value of zero at the solution: $V(s(\\overline{\\alpha}), \\overline{\\alpha}, p) = 0.$\n",
    "\n",
    "Because $V(s, \\alpha, p)$ doesn't have a closed form solution, we must solve for this upper bound numerically as well, by searching over the values of $s$ to find:\n",
    "\n",
    "$$\n",
    "\\overline{s} = \\arg\\min\\limits_{s} \\big\\{s : V( s, \\overline{\\alpha}, p) = 0 \\big\\}\n",
    "$$"
   ]
  },
  {
   "cell_type": "code",
   "execution_count": 13,
   "metadata": {},
   "outputs": [
    {
     "data": {
      "text/plain": [
       "getBoundarySMax (generic function with 1 method)"
      ]
     },
     "execution_count": 13,
     "metadata": {},
     "output_type": "execute_result"
    }
   ],
   "source": [
    "function getInsideV(s, γ, α, params)\n",
    "    c, q_e, q_a, sigma_sq  = params\n",
    "    \n",
    "    b = getBidStar( s, γ, α, params)    \n",
    "\n",
    "    b_min_c = b - (α*c);\n",
    "\n",
    "    ce = (q_a' * b_min_c) - (γ*0.5) * ((sigma_sq .* b_min_c)' * b_min_c)\n",
    "end\n",
    "\n",
    "function getBoundarySMax( γ, α, params)\n",
    "    c, q_e, q_a, sigma_sq  = params\n",
    "    \n",
    "    function ce_fun(svec)\n",
    "        s_max_var = svec[1]\n",
    "        ce = getInsideV(s_max_var, γ, α, params) \n",
    "        return (ce^2)\n",
    "    end\n",
    "    \n",
    "    starting_point = α*1.1*(c' * q_a)\n",
    "\n",
    "    s_max_sol = nlsolve(ce_fun, [starting_point]; inplace = false)\n",
    "    return s_max_sol.zero[1]\n",
    "end"
   ]
  },
  {
   "cell_type": "markdown",
   "metadata": {},
   "source": [
    "### Solving an easy example -- This used to work!"
   ]
  },
  {
   "cell_type": "code",
   "execution_count": 20,
   "metadata": {},
   "outputs": [
    {
     "ename": "LoadError",
     "evalue": "MethodError: no method matching Float64(::ForwardDiff.Dual{ForwardDiff.Tag{var\"#55#56\"{Float64,Float64,Array{Array{Float64,1},1}},Float64},Float64,1})\nClosest candidates are:\n  Float64(::Real, !Matched::RoundingMode) where T<:AbstractFloat at rounding.jl:200\n  Float64(::T) where T<:Number at boot.jl:716\n  Float64(!Matched::UInt16) at float.jl:66\n  ...",
     "output_type": "error",
     "traceback": [
      "MethodError: no method matching Float64(::ForwardDiff.Dual{ForwardDiff.Tag{var\"#55#56\"{Float64,Float64,Array{Array{Float64,1},1}},Float64},Float64,1})\nClosest candidates are:\n  Float64(::Real, !Matched::RoundingMode) where T<:AbstractFloat at rounding.jl:200\n  Float64(::T) where T<:Number at boot.jl:716\n  Float64(!Matched::UInt16) at float.jl:66\n  ...",
      "",
      "Stacktrace:",
      " [1] convert(::Type{Float64}, ::ForwardDiff.Dual{ForwardDiff.Tag{var\"#55#56\"{Float64,Float64,Array{Array{Float64,1},1}},Float64},Float64,1}) at ./number.jl:7",
      " [2] setindex!(::Array{Float64,1}, ::ForwardDiff.Dual{ForwardDiff.Tag{var\"#55#56\"{Float64,Float64,Array{Array{Float64,1},1}},Float64},Float64,1}, ::Int64) at ./array.jl:847",
      " [3] quadprog_exactSolve(::Array{Float64,1}, ::Array{Float64,1}, ::Array{Float64,1}, ::ForwardDiff.Dual{ForwardDiff.Tag{var\"#55#56\"{Float64,Float64,Array{Array{Float64,1},1}},Float64},Float64,1}, ::Bool) at /Users/svass/Git/PublicFiles/Julia/fast_quadprog.jl:114",
      " [4] quadprog_exactSolve at /Users/svass/Git/PublicFiles/Julia/fast_quadprog.jl:12 [inlined]",
      " [5] getBidStar(::ForwardDiff.Dual{ForwardDiff.Tag{var\"#55#56\"{Float64,Float64,Array{Array{Float64,1},1}},Float64},Float64,1}, ::Float64, ::Float64, ::Array{Array{Float64,1},1}) at ./In[4]:32",
      " [6] #55 at ./In[4]:42 [inlined]",
      " [7] derivative at /Users/svass/.julia/packages/ForwardDiff/sdToQ/src/derivative.jl:14 [inlined]",
      " [8] getDbDs_ForwardDiff(::Float64, ::Float64, ::Float64, ::Array{Array{Float64,1},1}) at ./In[4]:44",
      " [9] getFracVdV(::Float64, ::Float64, ::Float64, ::Array{Array{Float64,1},1}) at ./In[4]:75",
      " [10] ds_da_ode(::Float64, ::Float64, ::Float64, ::Array{Array{Float64,1},1}) at ./In[3]:6",
      " [11] ode_standard_subs(::Float64, ::DiffEqBase.NullParameters, ::Float64) at ./In[20]:18",
      " [12] (::ODEFunction{false,typeof(ode_standard_subs),LinearAlgebra.UniformScaling{Bool},Nothing,Nothing,Nothing,Nothing,Nothing,Nothing,Nothing,Nothing,Nothing,Nothing,Nothing,Nothing})(::Float64, ::Vararg{Any,N} where N) at /Users/svass/.julia/packages/DiffEqBase/T5smF/src/diffeqfunction.jl:248",
      " [13] perform_step!(::OrdinaryDiffEq.ODEIntegrator{Rodas5{0,true,DefaultLinSolve,DataType},false,Float64,Nothing,Float64,DiffEqBase.NullParameters,Float64,Float64,Float64,Array{Float64,1},ODESolution{Float64,1,Array{Float64,1},Nothing,Nothing,Array{Float64,1},Array{Array{Float64,1},1},ODEProblem{Float64,Tuple{Float64,Float64},false,DiffEqBase.NullParameters,ODEFunction{false,typeof(ode_standard_subs),LinearAlgebra.UniformScaling{Bool},Nothing,Nothing,Nothing,Nothing,Nothing,Nothing,Nothing,Nothing,Nothing,Nothing,Nothing,Nothing},Base.Iterators.Pairs{Union{},Union{},Tuple{},NamedTuple{(),Tuple{}}},DiffEqBase.StandardODEProblem},Rodas5{0,true,DefaultLinSolve,DataType},OrdinaryDiffEq.InterpolationData{ODEFunction{false,typeof(ode_standard_subs),LinearAlgebra.UniformScaling{Bool},Nothing,Nothing,Nothing,Nothing,Nothing,Nothing,Nothing,Nothing,Nothing,Nothing,Nothing,Nothing},Array{Float64,1},Array{Float64,1},Array{Array{Float64,1},1},OrdinaryDiffEq.Rosenbrock5ConstantCache{DiffEqBase.TimeDerivativeWrapper{ODEFunction{false,typeof(ode_standard_subs),LinearAlgebra.UniformScaling{Bool},Nothing,Nothing,Nothing,Nothing,Nothing,Nothing,Nothing,Nothing,Nothing,Nothing,Nothing,Nothing},Float64,DiffEqBase.NullParameters},DiffEqBase.UDerivativeWrapper{ODEFunction{false,typeof(ode_standard_subs),LinearAlgebra.UniformScaling{Bool},Nothing,Nothing,Nothing,Nothing,Nothing,Nothing,Nothing,Nothing,Nothing,Nothing,Nothing,Nothing},Float64,DiffEqBase.NullParameters},OrdinaryDiffEq.Rodas5Tableau{Float64,Float64},Float64,Float64,DefaultLinSolve}},DiffEqBase.DEStats},ODEFunction{false,typeof(ode_standard_subs),LinearAlgebra.UniformScaling{Bool},Nothing,Nothing,Nothing,Nothing,Nothing,Nothing,Nothing,Nothing,Nothing,Nothing,Nothing,Nothing},OrdinaryDiffEq.Rosenbrock5ConstantCache{DiffEqBase.TimeDerivativeWrapper{ODEFunction{false,typeof(ode_standard_subs),LinearAlgebra.UniformScaling{Bool},Nothing,Nothing,Nothing,Nothing,Nothing,Nothing,Nothing,Nothing,Nothing,Nothing,Nothing,Nothing},Float64,DiffEqBase.NullParameters},DiffEqBase.UDerivativeWrapper{ODEFunction{false,typeof(ode_standard_subs),LinearAlgebra.UniformScaling{Bool},Nothing,Nothing,Nothing,Nothing,Nothing,Nothing,Nothing,Nothing,Nothing,Nothing,Nothing,Nothing},Float64,DiffEqBase.NullParameters},OrdinaryDiffEq.Rodas5Tableau{Float64,Float64},Float64,Float64,DefaultLinSolve},OrdinaryDiffEq.DEOptions{Float64,Float64,Float64,Float64,typeof(DiffEqBase.ODE_DEFAULT_NORM),typeof(LinearAlgebra.opnorm),CallbackSet{Tuple{},Tuple{}},typeof(DiffEqBase.ODE_DEFAULT_ISOUTOFDOMAIN),typeof(DiffEqBase.ODE_DEFAULT_PROG_MESSAGE),typeof(DiffEqBase.ODE_DEFAULT_UNSTABLE_CHECK),DataStructures.BinaryHeap{Float64,DataStructures.LessThan},DataStructures.BinaryHeap{Float64,DataStructures.LessThan},Nothing,Nothing,Int64,Tuple{},Tuple{},Tuple{}},Float64,Float64,Nothing,OrdinaryDiffEq.DefaultInit}, ::OrdinaryDiffEq.Rosenbrock5ConstantCache{DiffEqBase.TimeDerivativeWrapper{ODEFunction{false,typeof(ode_standard_subs),LinearAlgebra.UniformScaling{Bool},Nothing,Nothing,Nothing,Nothing,Nothing,Nothing,Nothing,Nothing,Nothing,Nothing,Nothing,Nothing},Float64,DiffEqBase.NullParameters},DiffEqBase.UDerivativeWrapper{ODEFunction{false,typeof(ode_standard_subs),LinearAlgebra.UniformScaling{Bool},Nothing,Nothing,Nothing,Nothing,Nothing,Nothing,Nothing,Nothing,Nothing,Nothing,Nothing,Nothing},Float64,DiffEqBase.NullParameters},OrdinaryDiffEq.Rodas5Tableau{Float64,Float64},Float64,Float64,DefaultLinSolve}, ::Bool) at /Users/svass/.julia/packages/OrdinaryDiffEq/yn1YB/src/perform_step/rosenbrock_perform_step.jl:951",
      " [14] perform_step! at /Users/svass/.julia/packages/OrdinaryDiffEq/yn1YB/src/perform_step/rosenbrock_perform_step.jl:883 [inlined]",
      " [15] solve!(::OrdinaryDiffEq.ODEIntegrator{Rodas5{0,true,DefaultLinSolve,DataType},false,Float64,Nothing,Float64,DiffEqBase.NullParameters,Float64,Float64,Float64,Array{Float64,1},ODESolution{Float64,1,Array{Float64,1},Nothing,Nothing,Array{Float64,1},Array{Array{Float64,1},1},ODEProblem{Float64,Tuple{Float64,Float64},false,DiffEqBase.NullParameters,ODEFunction{false,typeof(ode_standard_subs),LinearAlgebra.UniformScaling{Bool},Nothing,Nothing,Nothing,Nothing,Nothing,Nothing,Nothing,Nothing,Nothing,Nothing,Nothing,Nothing},Base.Iterators.Pairs{Union{},Union{},Tuple{},NamedTuple{(),Tuple{}}},DiffEqBase.StandardODEProblem},Rodas5{0,true,DefaultLinSolve,DataType},OrdinaryDiffEq.InterpolationData{ODEFunction{false,typeof(ode_standard_subs),LinearAlgebra.UniformScaling{Bool},Nothing,Nothing,Nothing,Nothing,Nothing,Nothing,Nothing,Nothing,Nothing,Nothing,Nothing,Nothing},Array{Float64,1},Array{Float64,1},Array{Array{Float64,1},1},OrdinaryDiffEq.Rosenbrock5ConstantCache{DiffEqBase.TimeDerivativeWrapper{ODEFunction{false,typeof(ode_standard_subs),LinearAlgebra.UniformScaling{Bool},Nothing,Nothing,Nothing,Nothing,Nothing,Nothing,Nothing,Nothing,Nothing,Nothing,Nothing,Nothing},Float64,DiffEqBase.NullParameters},DiffEqBase.UDerivativeWrapper{ODEFunction{false,typeof(ode_standard_subs),LinearAlgebra.UniformScaling{Bool},Nothing,Nothing,Nothing,Nothing,Nothing,Nothing,Nothing,Nothing,Nothing,Nothing,Nothing,Nothing},Float64,DiffEqBase.NullParameters},OrdinaryDiffEq.Rodas5Tableau{Float64,Float64},Float64,Float64,DefaultLinSolve}},DiffEqBase.DEStats},ODEFunction{false,typeof(ode_standard_subs),LinearAlgebra.UniformScaling{Bool},Nothing,Nothing,Nothing,Nothing,Nothing,Nothing,Nothing,Nothing,Nothing,Nothing,Nothing,Nothing},OrdinaryDiffEq.Rosenbrock5ConstantCache{DiffEqBase.TimeDerivativeWrapper{ODEFunction{false,typeof(ode_standard_subs),LinearAlgebra.UniformScaling{Bool},Nothing,Nothing,Nothing,Nothing,Nothing,Nothing,Nothing,Nothing,Nothing,Nothing,Nothing,Nothing},Float64,DiffEqBase.NullParameters},DiffEqBase.UDerivativeWrapper{ODEFunction{false,typeof(ode_standard_subs),LinearAlgebra.UniformScaling{Bool},Nothing,Nothing,Nothing,Nothing,Nothing,Nothing,Nothing,Nothing,Nothing,Nothing,Nothing,Nothing},Float64,DiffEqBase.NullParameters},OrdinaryDiffEq.Rodas5Tableau{Float64,Float64},Float64,Float64,DefaultLinSolve},OrdinaryDiffEq.DEOptions{Float64,Float64,Float64,Float64,typeof(DiffEqBase.ODE_DEFAULT_NORM),typeof(LinearAlgebra.opnorm),CallbackSet{Tuple{},Tuple{}},typeof(DiffEqBase.ODE_DEFAULT_ISOUTOFDOMAIN),typeof(DiffEqBase.ODE_DEFAULT_PROG_MESSAGE),typeof(DiffEqBase.ODE_DEFAULT_UNSTABLE_CHECK),DataStructures.BinaryHeap{Float64,DataStructures.LessThan},DataStructures.BinaryHeap{Float64,DataStructures.LessThan},Nothing,Nothing,Int64,Tuple{},Tuple{},Tuple{}},Float64,Float64,Nothing,OrdinaryDiffEq.DefaultInit}) at /Users/svass/.julia/packages/OrdinaryDiffEq/yn1YB/src/solve.jl:426",
      " [16] #__solve#382 at /Users/svass/.julia/packages/OrdinaryDiffEq/yn1YB/src/solve.jl:5 [inlined]",
      " [17] __solve at /Users/svass/.julia/packages/OrdinaryDiffEq/yn1YB/src/solve.jl:4 [inlined]",
      " [18] solve_call(::ODEProblem{Float64,Tuple{Float64,Float64},false,DiffEqBase.NullParameters,ODEFunction{false,typeof(ode_standard_subs),LinearAlgebra.UniformScaling{Bool},Nothing,Nothing,Nothing,Nothing,Nothing,Nothing,Nothing,Nothing,Nothing,Nothing,Nothing,Nothing},Base.Iterators.Pairs{Union{},Union{},Tuple{},NamedTuple{(),Tuple{}}},DiffEqBase.StandardODEProblem}, ::Rodas5{0,true,DefaultLinSolve,DataType}; merge_callbacks::Bool, kwargs::Base.Iterators.Pairs{Union{},Union{},Tuple{},NamedTuple{(),Tuple{}}}) at /Users/svass/.julia/packages/DiffEqBase/T5smF/src/solve.jl:92",
      " [19] solve_call at /Users/svass/.julia/packages/DiffEqBase/T5smF/src/solve.jl:65 [inlined]",
      " [20] #solve_up#461 at /Users/svass/.julia/packages/DiffEqBase/T5smF/src/solve.jl:114 [inlined]",
      " [21] solve_up at /Users/svass/.julia/packages/DiffEqBase/T5smF/src/solve.jl:107 [inlined]",
      " [22] #solve#460 at /Users/svass/.julia/packages/DiffEqBase/T5smF/src/solve.jl:102 [inlined]",
      " [23] solve(::ODEProblem{Float64,Tuple{Float64,Float64},false,DiffEqBase.NullParameters,ODEFunction{false,typeof(ode_standard_subs),LinearAlgebra.UniformScaling{Bool},Nothing,Nothing,Nothing,Nothing,Nothing,Nothing,Nothing,Nothing,Nothing,Nothing,Nothing,Nothing},Base.Iterators.Pairs{Union{},Union{},Tuple{},NamedTuple{(),Tuple{}}},DiffEqBase.StandardODEProblem}, ::Rodas5{0,true,DefaultLinSolve,DataType}) at /Users/svass/.julia/packages/DiffEqBase/T5smF/src/solve.jl:100",
      " [24] top-level scope at In[20]:21",
      " [25] include_string(::Function, ::Module, ::String, ::String) at ./loading.jl:1091"
     ]
    }
   ],
   "source": [
    "qa0 = [12.; 9.];\n",
    "qe0 = [11.; 15.];\n",
    "c0 = [5.5;3.8];\n",
    "sigmasq0 = [1.2; 5.4];\n",
    "γ0 = 1.5;\n",
    "\n",
    "\n",
    "params0 = [c0, qe0, qa0, sigmasq0]\n",
    "\n",
    "alpha_max = 2.0;\n",
    "alpha_min = 0.5;\n",
    "\n",
    "alpha_span = (alpha_max,alpha_min);\n",
    "\n",
    "\n",
    "s_max_computed = getBoundarySMax(γ0, alpha_max, params0)\n",
    "\n",
    "ode_standard_subs(s, p, α) = ds_da_ode( s, γ0, α, params0 )\n",
    "ode_standard_prob = ODEProblem(ode_standard_subs, s_max_computed, alpha_span)\n",
    "\n",
    "sol_standard =  DifferentialEquations.solve(ode_standard_prob, Rodas5())\n",
    "\n",
    "plot(sol_standard)"
   ]
  },
  {
   "cell_type": "markdown",
   "metadata": {},
   "source": [
    "## Trying to debug.."
   ]
  },
  {
   "cell_type": "code",
   "execution_count": 21,
   "metadata": {},
   "outputs": [
    {
     "name": "stdout",
     "output_type": "stream",
     "text": [
      "s_min_alpha_min_gamma_min = getBoundarySMax(γmin, alpha_min, params0) = 2.522867859125154\n",
      "s_min_alpha_max_gamma_min = getBoundarySMax(γmin, alpha_max, params0) = 10.772854168201475\n",
      "getBidStar(s_min_alpha_min_gamma_min, γmin, alpha_min, params0) = [2.085027248824085, 0.08756812206021536]\n",
      "getBidStar(s_min_alpha_max_gamma_min, γmin, alpha_max, params0) = [2.835026234681591, 1.5875655867039784]\n",
      "s_min_alpha_min_gamma_max = getBoundarySMax(γmax, alpha_min, params0) = 2.5985201036670724\n",
      "s_min_alpha_max_gamma_max = getBoundarySMax(γmax, alpha_max, params0) = 10.8485237541349\n",
      "getBidStar(s_min_alpha_min_gamma_max, γmax, alpha_min, params0) = [1.4733471681728691, 0.22503458709884086]\n",
      "getBidStar(s_min_alpha_max_gamma_max, γmax, alpha_max, params0) = [2.223347438577893, 1.7250352631113999]\n",
      "getFracVdV(s_min_alpha_max_gamma_max, γmax, alpha_max, params0) = -0.0001172913969894676\n",
      "ds_da_ode(s_min_alpha_max_gamma_max, γmax, alpha_max, params0) = -0.003932651200605954\n",
      "getDbDs_ForwardDiff(s_min_alpha_max_gamma_max, γmax, alpha_max, params0) = [0.07407407407407408, 0.1851851851851852]\n",
      "ds_da_ode(s_min_alpha_max_gamma_max, γmax, alpha_max, params0) = -0.003932651200605954\n",
      "ds_da_ode_old(s_min_alpha_max_gamma_max, γmax, alpha_max, params0) = -0.003932651200605954\n"
     ]
    },
    {
     "data": {
      "text/plain": [
       "-0.003932651200605954"
      ]
     },
     "execution_count": 21,
     "metadata": {},
     "output_type": "execute_result"
    }
   ],
   "source": [
    "## For testing\n",
    "α0 = 0.8\n",
    "qa0 = [1.; 4.];\n",
    "qe0 = [1.; 5.];\n",
    "c0 = [.5;1.];\n",
    "sigmasq0 = [0.2, 0.4];\n",
    "γ0 = 1.5;\n",
    "\n",
    "\n",
    "params0 = [c0, qe0, qa0, sigmasq0]\n",
    "\n",
    "s0 = 4.5\n",
    "getInsideV(s0, γ0, α0, params0)\n",
    "\n",
    "# # getInsideV(s0, γ0, α0, params)\n",
    "alpha_max = 2;\n",
    "alpha_min = 0.5;\n",
    "\n",
    "γmin = 0.5;\n",
    "γmax = 0.75;\n",
    "\n",
    "\n",
    "@show s_min_alpha_min_gamma_min = getBoundarySMax( γmin, alpha_min, params0)\n",
    "@show s_min_alpha_max_gamma_min = getBoundarySMax( γmin, alpha_max, params0)\n",
    "\n",
    "@show getBidStar( s_min_alpha_min_gamma_min, γmin, alpha_min, params0)\n",
    "@show getBidStar( s_min_alpha_max_gamma_min, γmin, alpha_max, params0)\n",
    "\n",
    "\n",
    "@show s_min_alpha_min_gamma_max = getBoundarySMax( γmax, alpha_min, params0)\n",
    "@show s_min_alpha_max_gamma_max = getBoundarySMax( γmax, alpha_max, params0)\n",
    "\n",
    "@show getBidStar( s_min_alpha_min_gamma_max, γmax, alpha_min, params0)\n",
    "@show getBidStar( s_min_alpha_max_gamma_max, γmax, alpha_max, params0)\n",
    "\n",
    "@show getFracVdV(s_min_alpha_max_gamma_max, γmax, alpha_max, params0)\n",
    "@show ds_da_ode(s_min_alpha_max_gamma_max, γmax, alpha_max, params0)\n",
    "\n",
    "@show getDbDs_ForwardDiff(s_min_alpha_max_gamma_max, γmax, alpha_max, params0)\n",
    "\n",
    "@show ds_da_ode(s_min_alpha_max_gamma_max, γmax, alpha_max, params0)\n",
    "@show ds_da_ode_old( s_min_alpha_max_gamma_max, γmax, alpha_max, params0 )"
   ]
  },
  {
   "cell_type": "markdown",
   "metadata": {},
   "source": [
    "## Solving in Reverse -- This also sometimes works?\n"
   ]
  },
  {
   "cell_type": "code",
   "execution_count": 17,
   "metadata": {},
   "outputs": [
    {
     "name": "stdout",
     "output_type": "stream",
     "text": [
      "s_min_guess: 5.214300348644515\n"
     ]
    },
    {
     "ename": "LoadError",
     "evalue": "MethodError: no method matching Float64(::ForwardDiff.Dual{ForwardDiff.Tag{var\"#55#56\"{Float64,Float64,Array{Array{Float64,1},1}},Float64},Float64,1})\nClosest candidates are:\n  Float64(::Real, !Matched::RoundingMode) where T<:AbstractFloat at rounding.jl:200\n  Float64(::T) where T<:Number at boot.jl:716\n  Float64(!Matched::UInt16) at float.jl:66\n  ...",
     "output_type": "error",
     "traceback": [
      "MethodError: no method matching Float64(::ForwardDiff.Dual{ForwardDiff.Tag{var\"#55#56\"{Float64,Float64,Array{Array{Float64,1},1}},Float64},Float64,1})\nClosest candidates are:\n  Float64(::Real, !Matched::RoundingMode) where T<:AbstractFloat at rounding.jl:200\n  Float64(::T) where T<:Number at boot.jl:716\n  Float64(!Matched::UInt16) at float.jl:66\n  ...",
      "",
      "Stacktrace:",
      " [1] convert(::Type{Float64}, ::ForwardDiff.Dual{ForwardDiff.Tag{var\"#55#56\"{Float64,Float64,Array{Array{Float64,1},1}},Float64},Float64,1}) at ./number.jl:7",
      " [2] setindex!(::Array{Float64,1}, ::ForwardDiff.Dual{ForwardDiff.Tag{var\"#55#56\"{Float64,Float64,Array{Array{Float64,1},1}},Float64},Float64,1}, ::Int64) at ./array.jl:847",
      " [3] quadprog_exactSolve(::Array{Float64,1}, ::Array{Float64,1}, ::Array{Float64,1}, ::ForwardDiff.Dual{ForwardDiff.Tag{var\"#55#56\"{Float64,Float64,Array{Array{Float64,1},1}},Float64},Float64,1}, ::Bool) at /Users/svass/Git/PublicFiles/Julia/fast_quadprog.jl:114",
      " [4] quadprog_exactSolve at /Users/svass/Git/PublicFiles/Julia/fast_quadprog.jl:12 [inlined]",
      " [5] getBidStar(::ForwardDiff.Dual{ForwardDiff.Tag{var\"#55#56\"{Float64,Float64,Array{Array{Float64,1},1}},Float64},Float64,1}, ::Float64, ::Float64, ::Array{Array{Float64,1},1}) at ./In[4]:32",
      " [6] #55 at ./In[4]:42 [inlined]",
      " [7] derivative at /Users/svass/.julia/packages/ForwardDiff/sdToQ/src/derivative.jl:14 [inlined]",
      " [8] getDbDs_ForwardDiff(::Float64, ::Float64, ::Float64, ::Array{Array{Float64,1},1}) at ./In[4]:44",
      " [9] getFracVdV(::Float64, ::Float64, ::Float64, ::Array{Array{Float64,1},1}) at ./In[4]:75",
      " [10] ds_da_ode(::Float64, ::Float64, ::Float64, ::Array{Array{Float64,1},1}) at ./In[3]:6",
      " [11] ode_reverse_subs(::Float64, ::DiffEqBase.NullParameters, ::Float64) at ./In[17]:10",
      " [12] (::ODEFunction{false,typeof(ode_reverse_subs),LinearAlgebra.UniformScaling{Bool},Nothing,Nothing,Nothing,Nothing,Nothing,Nothing,Nothing,Nothing,Nothing,Nothing,Nothing,Nothing})(::Float64, ::Vararg{Any,N} where N) at /Users/svass/.julia/packages/DiffEqBase/T5smF/src/diffeqfunction.jl:248",
      " [13] perform_step!(::OrdinaryDiffEq.ODEIntegrator{Rodas5{0,true,DefaultLinSolve,DataType},false,Float64,Nothing,Float64,DiffEqBase.NullParameters,Float64,Float64,Float64,Array{Float64,1},ODESolution{Float64,1,Array{Float64,1},Nothing,Nothing,Array{Float64,1},Array{Array{Float64,1},1},ODEProblem{Float64,Tuple{Float64,Float64},false,DiffEqBase.NullParameters,ODEFunction{false,typeof(ode_reverse_subs),LinearAlgebra.UniformScaling{Bool},Nothing,Nothing,Nothing,Nothing,Nothing,Nothing,Nothing,Nothing,Nothing,Nothing,Nothing,Nothing},Base.Iterators.Pairs{Union{},Union{},Tuple{},NamedTuple{(),Tuple{}}},DiffEqBase.StandardODEProblem},Rodas5{0,true,DefaultLinSolve,DataType},OrdinaryDiffEq.InterpolationData{ODEFunction{false,typeof(ode_reverse_subs),LinearAlgebra.UniformScaling{Bool},Nothing,Nothing,Nothing,Nothing,Nothing,Nothing,Nothing,Nothing,Nothing,Nothing,Nothing,Nothing},Array{Float64,1},Array{Float64,1},Array{Array{Float64,1},1},OrdinaryDiffEq.Rosenbrock5ConstantCache{DiffEqBase.TimeDerivativeWrapper{ODEFunction{false,typeof(ode_reverse_subs),LinearAlgebra.UniformScaling{Bool},Nothing,Nothing,Nothing,Nothing,Nothing,Nothing,Nothing,Nothing,Nothing,Nothing,Nothing,Nothing},Float64,DiffEqBase.NullParameters},DiffEqBase.UDerivativeWrapper{ODEFunction{false,typeof(ode_reverse_subs),LinearAlgebra.UniformScaling{Bool},Nothing,Nothing,Nothing,Nothing,Nothing,Nothing,Nothing,Nothing,Nothing,Nothing,Nothing,Nothing},Float64,DiffEqBase.NullParameters},OrdinaryDiffEq.Rodas5Tableau{Float64,Float64},Float64,Float64,DefaultLinSolve}},DiffEqBase.DEStats},ODEFunction{false,typeof(ode_reverse_subs),LinearAlgebra.UniformScaling{Bool},Nothing,Nothing,Nothing,Nothing,Nothing,Nothing,Nothing,Nothing,Nothing,Nothing,Nothing,Nothing},OrdinaryDiffEq.Rosenbrock5ConstantCache{DiffEqBase.TimeDerivativeWrapper{ODEFunction{false,typeof(ode_reverse_subs),LinearAlgebra.UniformScaling{Bool},Nothing,Nothing,Nothing,Nothing,Nothing,Nothing,Nothing,Nothing,Nothing,Nothing,Nothing,Nothing},Float64,DiffEqBase.NullParameters},DiffEqBase.UDerivativeWrapper{ODEFunction{false,typeof(ode_reverse_subs),LinearAlgebra.UniformScaling{Bool},Nothing,Nothing,Nothing,Nothing,Nothing,Nothing,Nothing,Nothing,Nothing,Nothing,Nothing,Nothing},Float64,DiffEqBase.NullParameters},OrdinaryDiffEq.Rodas5Tableau{Float64,Float64},Float64,Float64,DefaultLinSolve},OrdinaryDiffEq.DEOptions{Float64,Float64,Float64,Float64,typeof(DiffEqBase.ODE_DEFAULT_NORM),typeof(LinearAlgebra.opnorm),CallbackSet{Tuple{},Tuple{}},typeof(DiffEqBase.ODE_DEFAULT_ISOUTOFDOMAIN),typeof(DiffEqBase.ODE_DEFAULT_PROG_MESSAGE),typeof(DiffEqBase.ODE_DEFAULT_UNSTABLE_CHECK),DataStructures.BinaryHeap{Float64,DataStructures.LessThan},DataStructures.BinaryHeap{Float64,DataStructures.LessThan},Nothing,Nothing,Int64,Tuple{},Tuple{},Tuple{}},Float64,Float64,Nothing,OrdinaryDiffEq.DefaultInit}, ::OrdinaryDiffEq.Rosenbrock5ConstantCache{DiffEqBase.TimeDerivativeWrapper{ODEFunction{false,typeof(ode_reverse_subs),LinearAlgebra.UniformScaling{Bool},Nothing,Nothing,Nothing,Nothing,Nothing,Nothing,Nothing,Nothing,Nothing,Nothing,Nothing,Nothing},Float64,DiffEqBase.NullParameters},DiffEqBase.UDerivativeWrapper{ODEFunction{false,typeof(ode_reverse_subs),LinearAlgebra.UniformScaling{Bool},Nothing,Nothing,Nothing,Nothing,Nothing,Nothing,Nothing,Nothing,Nothing,Nothing,Nothing,Nothing},Float64,DiffEqBase.NullParameters},OrdinaryDiffEq.Rodas5Tableau{Float64,Float64},Float64,Float64,DefaultLinSolve}, ::Bool) at /Users/svass/.julia/packages/OrdinaryDiffEq/yn1YB/src/perform_step/rosenbrock_perform_step.jl:1011",
      " [14] perform_step! at /Users/svass/.julia/packages/OrdinaryDiffEq/yn1YB/src/perform_step/rosenbrock_perform_step.jl:883 [inlined]",
      " [15] solve!(::OrdinaryDiffEq.ODEIntegrator{Rodas5{0,true,DefaultLinSolve,DataType},false,Float64,Nothing,Float64,DiffEqBase.NullParameters,Float64,Float64,Float64,Array{Float64,1},ODESolution{Float64,1,Array{Float64,1},Nothing,Nothing,Array{Float64,1},Array{Array{Float64,1},1},ODEProblem{Float64,Tuple{Float64,Float64},false,DiffEqBase.NullParameters,ODEFunction{false,typeof(ode_reverse_subs),LinearAlgebra.UniformScaling{Bool},Nothing,Nothing,Nothing,Nothing,Nothing,Nothing,Nothing,Nothing,Nothing,Nothing,Nothing,Nothing},Base.Iterators.Pairs{Union{},Union{},Tuple{},NamedTuple{(),Tuple{}}},DiffEqBase.StandardODEProblem},Rodas5{0,true,DefaultLinSolve,DataType},OrdinaryDiffEq.InterpolationData{ODEFunction{false,typeof(ode_reverse_subs),LinearAlgebra.UniformScaling{Bool},Nothing,Nothing,Nothing,Nothing,Nothing,Nothing,Nothing,Nothing,Nothing,Nothing,Nothing,Nothing},Array{Float64,1},Array{Float64,1},Array{Array{Float64,1},1},OrdinaryDiffEq.Rosenbrock5ConstantCache{DiffEqBase.TimeDerivativeWrapper{ODEFunction{false,typeof(ode_reverse_subs),LinearAlgebra.UniformScaling{Bool},Nothing,Nothing,Nothing,Nothing,Nothing,Nothing,Nothing,Nothing,Nothing,Nothing,Nothing,Nothing},Float64,DiffEqBase.NullParameters},DiffEqBase.UDerivativeWrapper{ODEFunction{false,typeof(ode_reverse_subs),LinearAlgebra.UniformScaling{Bool},Nothing,Nothing,Nothing,Nothing,Nothing,Nothing,Nothing,Nothing,Nothing,Nothing,Nothing,Nothing},Float64,DiffEqBase.NullParameters},OrdinaryDiffEq.Rodas5Tableau{Float64,Float64},Float64,Float64,DefaultLinSolve}},DiffEqBase.DEStats},ODEFunction{false,typeof(ode_reverse_subs),LinearAlgebra.UniformScaling{Bool},Nothing,Nothing,Nothing,Nothing,Nothing,Nothing,Nothing,Nothing,Nothing,Nothing,Nothing,Nothing},OrdinaryDiffEq.Rosenbrock5ConstantCache{DiffEqBase.TimeDerivativeWrapper{ODEFunction{false,typeof(ode_reverse_subs),LinearAlgebra.UniformScaling{Bool},Nothing,Nothing,Nothing,Nothing,Nothing,Nothing,Nothing,Nothing,Nothing,Nothing,Nothing,Nothing},Float64,DiffEqBase.NullParameters},DiffEqBase.UDerivativeWrapper{ODEFunction{false,typeof(ode_reverse_subs),LinearAlgebra.UniformScaling{Bool},Nothing,Nothing,Nothing,Nothing,Nothing,Nothing,Nothing,Nothing,Nothing,Nothing,Nothing,Nothing},Float64,DiffEqBase.NullParameters},OrdinaryDiffEq.Rodas5Tableau{Float64,Float64},Float64,Float64,DefaultLinSolve},OrdinaryDiffEq.DEOptions{Float64,Float64,Float64,Float64,typeof(DiffEqBase.ODE_DEFAULT_NORM),typeof(LinearAlgebra.opnorm),CallbackSet{Tuple{},Tuple{}},typeof(DiffEqBase.ODE_DEFAULT_ISOUTOFDOMAIN),typeof(DiffEqBase.ODE_DEFAULT_PROG_MESSAGE),typeof(DiffEqBase.ODE_DEFAULT_UNSTABLE_CHECK),DataStructures.BinaryHeap{Float64,DataStructures.LessThan},DataStructures.BinaryHeap{Float64,DataStructures.LessThan},Nothing,Nothing,Int64,Tuple{},Tuple{},Tuple{}},Float64,Float64,Nothing,OrdinaryDiffEq.DefaultInit}) at /Users/svass/.julia/packages/OrdinaryDiffEq/yn1YB/src/solve.jl:426",
      " [16] #__solve#382 at /Users/svass/.julia/packages/OrdinaryDiffEq/yn1YB/src/solve.jl:5 [inlined]",
      " [17] __solve at /Users/svass/.julia/packages/OrdinaryDiffEq/yn1YB/src/solve.jl:4 [inlined]",
      " [18] solve_call(::ODEProblem{Float64,Tuple{Float64,Float64},false,DiffEqBase.NullParameters,ODEFunction{false,typeof(ode_reverse_subs),LinearAlgebra.UniformScaling{Bool},Nothing,Nothing,Nothing,Nothing,Nothing,Nothing,Nothing,Nothing,Nothing,Nothing,Nothing,Nothing},Base.Iterators.Pairs{Union{},Union{},Tuple{},NamedTuple{(),Tuple{}}},DiffEqBase.StandardODEProblem}, ::Rodas5{0,true,DefaultLinSolve,DataType}; merge_callbacks::Bool, kwargs::Base.Iterators.Pairs{Union{},Union{},Tuple{},NamedTuple{(),Tuple{}}}) at /Users/svass/.julia/packages/DiffEqBase/T5smF/src/solve.jl:92",
      " [19] solve_call at /Users/svass/.julia/packages/DiffEqBase/T5smF/src/solve.jl:65 [inlined]",
      " [20] #solve_up#461 at /Users/svass/.julia/packages/DiffEqBase/T5smF/src/solve.jl:114 [inlined]",
      " [21] solve_up at /Users/svass/.julia/packages/DiffEqBase/T5smF/src/solve.jl:107 [inlined]",
      " [22] #solve#460 at /Users/svass/.julia/packages/DiffEqBase/T5smF/src/solve.jl:102 [inlined]",
      " [23] solve(::ODEProblem{Float64,Tuple{Float64,Float64},false,DiffEqBase.NullParameters,ODEFunction{false,typeof(ode_reverse_subs),LinearAlgebra.UniformScaling{Bool},Nothing,Nothing,Nothing,Nothing,Nothing,Nothing,Nothing,Nothing,Nothing,Nothing,Nothing,Nothing},Base.Iterators.Pairs{Union{},Union{},Tuple{},NamedTuple{(),Tuple{}}},DiffEqBase.StandardODEProblem}, ::Rodas5{0,true,DefaultLinSolve,DataType}) at /Users/svass/.julia/packages/DiffEqBase/T5smF/src/solve.jl:100",
      " [24] top-level scope at In[17]:13",
      " [25] include_string(::Function, ::Module, ::String, ::String) at ./loading.jl:1091"
     ]
    }
   ],
   "source": [
    "\n",
    "# alpha_span = (alpha_max,alpha_min);\n",
    "alpha_span_reverse = (0.5, alpha_max);\n",
    "\n",
    "s_min_from_forward_solve = sol_standard[end] \n",
    "\n",
    "s_min_guess = s_min_from_forward_solve\n",
    "println(\"s_min_guess: \", s_min_guess)\n",
    "\n",
    "ode_reverse_subs(s, p, α) = ds_da_ode( s, γ0, α, params0 )\n",
    "ode_reverse_prob = ODEProblem(ode_reverse_subs, s_min_guess, alpha_span_reverse)\n",
    "\n",
    "sol_reverse =  DifferentialEquations.solve(ode_reverse_prob, Rodas5())\n",
    "plot(sol_reverse)"
   ]
  },
  {
   "cell_type": "code",
   "execution_count": 18,
   "metadata": {},
   "outputs": [
    {
     "name": "stdout",
     "output_type": "stream",
     "text": [
      "s_min_alpha_min_gamma_min = getBoundarySMax(γmin, alpha_min, params0) = 2.522867859125154\n",
      "s_min_alpha_max_gamma_min = getBoundarySMax(γmin, alpha_max, params0) = 10.772854168201475\n",
      "getBidStar(s_min_alpha_min_gamma_min, γmin, alpha_min, params0) = [2.085027248824085, 0.08756812206021536]\n",
      "getBidStar(s_min_alpha_max_gamma_min, γmin, alpha_max, params0) = [2.835026234681591, 1.5875655867039784]\n",
      "s_min_alpha_min_gamma_max = getBoundarySMax(γmax, alpha_min, params0) = 2.5985201036670724\n",
      "s_min_alpha_max_gamma_max = getBoundarySMax(γmax, alpha_max, params0) = 10.8485237541349\n",
      "getBidStar(s_min_alpha_min_gamma_max, γmax, alpha_min, params0) = [1.4733471681728691, 0.22503458709884086]\n",
      "getBidStar(s_min_alpha_max_gamma_max, γmax, alpha_max, params0) = [2.223347438577893, 1.7250352631113999]\n",
      "getFracVdV(s_min_alpha_max_gamma_max, γmax, alpha_max, params0) = -0.0001172913969894676\n",
      "ds_da_ode(s_min_alpha_max_gamma_max, γmax, alpha_max, params0) = -0.003932651200605954\n",
      "getDbDs_ForwardDiff(s_min_alpha_max_gamma_max, γmax, alpha_max, params0) = [0.07407407407407408, 0.1851851851851852]\n",
      "ds_da_ode(s_min_alpha_max_gamma_max, γmax, alpha_max, params0) = -0.003932651200605954\n",
      "ds_da_ode_old(s_min_alpha_max_gamma_max, γmax, alpha_max, params0) = -0.003932651200605954\n"
     ]
    },
    {
     "data": {
      "text/plain": [
       "-0.003932651200605954"
      ]
     },
     "execution_count": 18,
     "metadata": {},
     "output_type": "execute_result"
    }
   ],
   "source": [
    "## For testing\n",
    "α0 = 0.8\n",
    "qa0 = [1.; 4.];\n",
    "qe0 = [1.; 5.];\n",
    "c0 = [.5;1.];\n",
    "sigmasq0 = [0.2, 0.4];\n",
    "γ0 = 1.5;\n",
    "\n",
    "\n",
    "params0 = [c0, qe0, qa0, sigmasq0]\n",
    "\n",
    "s0 = 4.5\n",
    "getInsideV(s0, γ0, α0, params0)\n",
    "\n",
    "# # getInsideV(s0, γ0, α0, params)\n",
    "alpha_max = 2;\n",
    "alpha_min = 0.5;\n",
    "\n",
    "γmin = 0.5;\n",
    "γmax = 0.75;\n",
    "\n",
    "\n",
    "@show s_min_alpha_min_gamma_min = getBoundarySMax( γmin, alpha_min, params0)\n",
    "@show s_min_alpha_max_gamma_min = getBoundarySMax( γmin, alpha_max, params0)\n",
    "\n",
    "@show getBidStar( s_min_alpha_min_gamma_min, γmin, alpha_min, params0)\n",
    "@show getBidStar( s_min_alpha_max_gamma_min, γmin, alpha_max, params0)\n",
    "\n",
    "\n",
    "@show s_min_alpha_min_gamma_max = getBoundarySMax( γmax, alpha_min, params0)\n",
    "@show s_min_alpha_max_gamma_max = getBoundarySMax( γmax, alpha_max, params0)\n",
    "\n",
    "@show getBidStar( s_min_alpha_min_gamma_max, γmax, alpha_min, params0)\n",
    "@show getBidStar( s_min_alpha_max_gamma_max, γmax, alpha_max, params0)\n",
    "\n",
    "@show getFracVdV(s_min_alpha_max_gamma_max, γmax, alpha_max, params0)\n",
    "@show ds_da_ode(s_min_alpha_max_gamma_max, γmax, alpha_max, params0)\n",
    "\n",
    "@show getDbDs_ForwardDiff(s_min_alpha_max_gamma_max, γmax, alpha_max, params0)\n",
    "\n",
    "@show ds_da_ode(s_min_alpha_max_gamma_max, γmax, alpha_max, params0)\n",
    "@show ds_da_ode_old( s_min_alpha_max_gamma_max, γmax, alpha_max, params0 )"
   ]
  },
  {
   "cell_type": "code",
   "execution_count": null,
   "metadata": {},
   "outputs": [],
   "source": []
  }
 ],
 "metadata": {
  "kernelspec": {
   "display_name": "Julia nodeps 1.5.0",
   "language": "julia",
   "name": "julia-nodeps-1.5"
  },
  "language_info": {
   "file_extension": ".jl",
   "mimetype": "application/julia",
   "name": "julia",
   "version": "1.5.0"
  }
 },
 "nbformat": 4,
 "nbformat_minor": 4
}
