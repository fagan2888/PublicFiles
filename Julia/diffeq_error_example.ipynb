{
 "cells": [
  {
   "cell_type": "markdown",
   "metadata": {},
   "source": [
    "## Introduction\n",
    "The goal of this notebook is to lay out a simple example of the auction equilibrium calculation"
   ]
  },
  {
   "cell_type": "code",
   "execution_count": 1,
   "metadata": {},
   "outputs": [],
   "source": [
    "using JuMP\n",
    "using Ipopt\n",
    "using DataFrames, CSV\n",
    "using Parameters\n",
    "using DifferentialEquations\n",
    "using Distributions\n",
    "using NLsolve"
   ]
  },
  {
   "cell_type": "code",
   "execution_count": 17,
   "metadata": {},
   "outputs": [
    {
     "data": {
      "text/plain": [
       "firstOrderStatistic_density (generic function with 2 methods)"
      ]
     },
     "execution_count": 17,
     "metadata": {},
     "output_type": "execute_result"
    }
   ],
   "source": [
    "\n",
    "function getBoundarySMax_twoitem_riskaverse_scale(alpha_max, gamma, q_b, q_e , c, sigma_sq)\n",
    "    function ce_fun(svec)\n",
    "        s_max_var = svec[1]\n",
    "        return getCE_riskaverse_scale(gamma, alpha_max, s_max_var, q_b, q_e , c, sigma_sq) \n",
    "    end\n",
    "    starting_point = alpha_max*1.01*(c' * q_b)\n",
    "\n",
    "    s_max_sol = nlsolve(ce_fun, [starting_point]; inplace = false)\n",
    "    return s_max_sol.zero[1]\n",
    "end\n",
    "\n",
    "function getCE_riskaverse_scale(gamma, alpha, s, q_b, q_e , c, sigma_sq)\n",
    "    b = getBidVecAnalytical_riskaverse_scale( gamma, alpha, s, q_b, q_e , c, sigma_sq)    \n",
    "\n",
    "    b_min_c = b - (alpha*c);\n",
    "\n",
    "    ce = (q_b' * b_min_c) - (gamma/2) * ((sigma_sq .* b_min_c)' * b_min_c)\n",
    "end\n",
    "\n",
    "\n",
    "\n",
    "function getBidVecAnalytical_riskaverse_scale( gamma, alpha, s, q_b, q_e , c, sigma_sq)\n",
    "    # Compute the optimal unit bid vector for each score by solving the quadratic optimization problem\n",
    "    T = length(q_e)\n",
    "    if sum(sigma_sq) > 0\n",
    "\n",
    "        m = Model(with_optimizer(Ipopt.Optimizer,print_level=0))\n",
    "\n",
    "        @variables m begin\n",
    "        b[i=1:T] >= 0\n",
    "        end\n",
    "\n",
    "        @objective( m,\n",
    "                    Max,\n",
    "                    (sum((q_b[i] * (b[i] - alpha*c[i]) - (gamma / 2) * sigma_sq[i] * (b[i] - alpha*c[i])^2) for i=1:T ))\n",
    "                 )\n",
    "\n",
    "              @constraint(m, sum( b[i] * q_e[i] for i=1:T ) == s)\n",
    "\n",
    "           optimize!(m)\n",
    "\n",
    "           b_min = value.(b)\n",
    "   else\n",
    "       (maxitem,maxindex) = findmax(q_b./q_e)\n",
    "       b_min = zeros(T)\n",
    "       b_min[maxindex] = s/q_e[maxindex]\n",
    "   end\n",
    "\n",
    "    return b_min\n",
    "\n",
    "end\n",
    "\n",
    "# function getDbDsAnalytical_riskaverse_scale( gamma, alpha, b, q_a, q_e , c, sigma_sq)\n",
    "\n",
    "function getDbDsAnalytical_riskaverse_scale(gamma, alpha, b, q_b, q_e , c, sigma_sq)\n",
    "#     %Computes anayltical derivative of the optimal bid function of item t\n",
    "#     % w.r.t. score s given alpha\n",
    "\n",
    "    T = length(q_e)\n",
    "    pos_b = [ifelse(b[t] > 0, 1, 0) for t=1:T]\n",
    "\n",
    "    if (sum(sigma_sq) > 0)\n",
    "        denom = 1.0/(sum((q_e[t]^2 * pos_b[t]) / sigma_sq[t] for t in 1:T))\n",
    "        db_ds = [((q_e[t] * pos_b[t] / sigma_sq[t]) * denom) for t in 1:T]'\n",
    "    else\n",
    "        db_ds = [ifelse(b[t] > 0, (1.0/q_e[t]), 0) for t=1:T]'\n",
    "    end\n",
    "\n",
    "    return(db_ds)\n",
    "\n",
    "end\n",
    "\n",
    "function ode_analytical_twoitem_riskaverse_scale( alpha, s, q_a, q_e, c, gamma, sigma_sq)\n",
    "\n",
    "    alpha_dist = Uniform(0.5, 2);\n",
    "\n",
    "#     alpha_dist = Truncated(LogNormal(0, 0.2), 2);\n",
    "    f(a) = pdf(alpha_dist, a);\n",
    "    F(a) = cdf(alpha_dist, a);\n",
    "\n",
    "    b = getBidVecAnalytical_riskaverse_scale( gamma, alpha, s, q_a, q_e , c, sigma_sq)\n",
    "    db_ds = getDbDsAnalytical_riskaverse_scale( gamma, alpha, b, q_a, q_e , c, sigma_sq)\n",
    "\n",
    "\n",
    "    b_min_c = b - (alpha*c);\n",
    "\n",
    "    profit_ce = (q_a' * b_min_c) - (gamma)*0.5 * ((sigma_sq .* b_min_c)' * b_min_c)\n",
    "    profit_term = exp(gamma*profit_ce) - 1;\n",
    "\n",
    "\n",
    "    numerator = (f(alpha) ./ (1 - F(alpha) - 0.00000000001));\n",
    "\n",
    "    denominator = db_ds * ((gamma .* q_a) - (gamma^2 .* sigma_sq .* b_min_c) );\n",
    "    numerator = numerator * profit_term;\n",
    "\n",
    "    ds_dc = numerator / denominator; # Note: this should be a scalar\n",
    "    # println(\"ds_dc: \", ds_dc)\n",
    "\n",
    "    return ds_dc\n",
    "\n",
    "end\n",
    "\n",
    "function getExPostScore_riskaverse_scale(alpha, s, q_a, q_e, c, gamma, sigma_sq)\n",
    "    b = getBidVecAnalytical_riskaverse_scale( gamma, alpha, s, q_a, q_e , c, sigma_sq)\n",
    "    total_cost = b' * q_a\n",
    "    return(total_cost)\n",
    "end\n",
    "\n",
    "function firstOrderStatistic_density(alpha, nbidders = 2)\n",
    "    alpha_dist = LogNormal(0, 0.2);\n",
    "    F(a) = cdf(alpha_dist, a);\n",
    "    f(a) = pdf(alpha_dist, a);\n",
    "\n",
    "    out = ( nbidders * f(alpha) * ((1-F(alpha))^(nbidders - 1)) )\n",
    "    return out\n",
    "end"
   ]
  },
  {
   "cell_type": "markdown",
   "metadata": {},
   "source": [
    "### Instantiate Auction Example\n",
    "#### Base Auction [Data]"
   ]
  },
  {
   "cell_type": "code",
   "execution_count": 18,
   "metadata": {},
   "outputs": [
    {
     "data": {
      "text/plain": [
       "1100"
      ]
     },
     "execution_count": 18,
     "metadata": {},
     "output_type": "execute_result"
    }
   ],
   "source": [
    "# qa = [10; 5];\n",
    "# qe = [10; 10];\n",
    "qa = [12; 40];\n",
    "qe = [10; 50];\n",
    "c = [5;10];\n",
    "sigma_sq = [3, 5];\n",
    "gamma = 1.5;\n",
    "\n",
    "alpha_max = 2;\n",
    "alpha_min = 0.5;\n",
    "s_max = qe'*c*alpha_max\n",
    "\n",
    "alpha_span = (alpha_max,alpha_min);\n",
    "\n",
    "# %Boundary Condition for worst type\n",
    "s_boundary_score = s_max;\n",
    "\n",
    "# % Initial score value\n",
    "s0 = s_boundary_score\n",
    "s0"
   ]
  },
  {
   "cell_type": "code",
   "execution_count": 19,
   "metadata": {},
   "outputs": [
    {
     "data": {
      "text/plain": [
       "\u001b[36mODEProblem\u001b[0m with uType \u001b[36mFloat64\u001b[0m and tType \u001b[36mFloat64\u001b[0m. In-place: \u001b[36mfalse\u001b[0m\n",
       "timespan: (2.0, 0.5)\n",
       "u0: 1097.9867070962464"
      ]
     },
     "execution_count": 19,
     "metadata": {},
     "output_type": "execute_result"
    }
   ],
   "source": [
    "smax_riskaverse_scale = getBoundarySMax_twoitem_riskaverse_scale(alpha_max, gamma, qa, qe , c, sigma_sq)\n",
    "\n",
    "ode_analytical_twoitem_riskaverse_scale_subs(s, p, alpha) = ode_analytical_twoitem_riskaverse_scale(alpha, s, qa, qe, c, gamma, sigma_sq)\n",
    "\n",
    "prob_riskaverse_scale = ODEProblem(ode_analytical_twoitem_riskaverse_scale_subs, smax_riskaverse_scale, alpha_span)\n"
   ]
  },
  {
   "cell_type": "code",
   "execution_count": 20,
   "metadata": {},
   "outputs": [
    {
     "ename": "MethodError",
     "evalue": "MethodError: no method matching Float64(::ForwardDiff.Dual{ForwardDiff.Tag{DiffEqDiffTools.TimeDerivativeWrapper{ODEFunction{false,typeof(ode_analytical_twoitem_riskaverse_scale_subs),LinearAlgebra.UniformScaling{Bool},Nothing,Nothing,Nothing,Nothing,Nothing,Nothing,Nothing,Nothing,Nothing,Nothing,Nothing},Float64,DiffEqBase.NullParameters},Float64},Float64,1})\nClosest candidates are:\n  Float64(::Real, !Matched::RoundingMode) where T<:AbstractFloat at rounding.jl:200\n  Float64(::T) where T<:Number at boot.jl:718\n  Float64(!Matched::Int8) at float.jl:60\n  ...",
     "output_type": "error",
     "traceback": [
      "MethodError: no method matching Float64(::ForwardDiff.Dual{ForwardDiff.Tag{DiffEqDiffTools.TimeDerivativeWrapper{ODEFunction{false,typeof(ode_analytical_twoitem_riskaverse_scale_subs),LinearAlgebra.UniformScaling{Bool},Nothing,Nothing,Nothing,Nothing,Nothing,Nothing,Nothing,Nothing,Nothing,Nothing,Nothing},Float64,DiffEqBase.NullParameters},Float64},Float64,1})\nClosest candidates are:\n  Float64(::Real, !Matched::RoundingMode) where T<:AbstractFloat at rounding.jl:200\n  Float64(::T) where T<:Number at boot.jl:718\n  Float64(!Matched::Int8) at float.jl:60\n  ...",
      "",
      "Stacktrace:",
      " [1] convert(::Type{Float64}, ::ForwardDiff.Dual{ForwardDiff.Tag{DiffEqDiffTools.TimeDerivativeWrapper{ODEFunction{false,typeof(ode_analytical_twoitem_riskaverse_scale_subs),LinearAlgebra.UniformScaling{Bool},Nothing,Nothing,Nothing,Nothing,Nothing,Nothing,Nothing,Nothing,Nothing,Nothing,Nothing},Float64,DiffEqBase.NullParameters},Float64},Float64,1}) at ./number.jl:7",
      " [2] setproperty!(::GenericAffExpr{Float64,VariableRef}, ::Symbol, ::ForwardDiff.Dual{ForwardDiff.Tag{DiffEqDiffTools.TimeDerivativeWrapper{ODEFunction{false,typeof(ode_analytical_twoitem_riskaverse_scale_subs),LinearAlgebra.UniformScaling{Bool},Nothing,Nothing,Nothing,Nothing,Nothing,Nothing,Nothing,Nothing,Nothing,Nothing,Nothing},Float64,DiffEqBase.NullParameters},Float64},Float64,1}) at ./Base.jl:21",
      " [3] destructive_add!(::GenericAffExpr{Float64,VariableRef}, ::ForwardDiff.Dual{ForwardDiff.Tag{DiffEqDiffTools.TimeDerivativeWrapper{ODEFunction{false,typeof(ode_analytical_twoitem_riskaverse_scale_subs),LinearAlgebra.UniformScaling{Bool},Nothing,Nothing,Nothing,Nothing,Nothing,Nothing,Nothing,Nothing,Nothing,Nothing,Nothing},Float64,DiffEqBase.NullParameters},Float64},Float64,1}, ::Int64) at /Users/svass/.julia/packages/JuMP/MsUSY/src/parse_expr.jl:101",
      " [4] macro expansion at /Users/svass/.julia/packages/JuMP/MsUSY/src/parse_expr.jl:331 [inlined]",
      " [5] _destructive_add_with_reorder!(::GenericAffExpr{Float64,VariableRef}, ::Float64, ::Int64, ::ForwardDiff.Dual{ForwardDiff.Tag{DiffEqDiffTools.TimeDerivativeWrapper{ODEFunction{false,typeof(ode_analytical_twoitem_riskaverse_scale_subs),LinearAlgebra.UniformScaling{Bool},Nothing,Nothing,Nothing,Nothing,Nothing,Nothing,Nothing,Nothing,Nothing,Nothing,Nothing},Float64,DiffEqBase.NullParameters},Float64},Float64,1}, ::Int64) at /Users/svass/.julia/packages/JuMP/MsUSY/src/parse_expr.jl:331",
      " [6] getBidVecAnalytical_riskaverse_scale(::Float64, ::ForwardDiff.Dual{ForwardDiff.Tag{DiffEqDiffTools.TimeDerivativeWrapper{ODEFunction{false,typeof(ode_analytical_twoitem_riskaverse_scale_subs),LinearAlgebra.UniformScaling{Bool},Nothing,Nothing,Nothing,Nothing,Nothing,Nothing,Nothing,Nothing,Nothing,Nothing,Nothing},Float64,DiffEqBase.NullParameters},Float64},Float64,1}, ::Float64, ::Array{Int64,1}, ::Array{Int64,1}, ::Array{Int64,1}, ::Array{Int64,1}) at /Users/svass/.julia/packages/JuMP/MsUSY/src/macros.jl:978",
      " [7] ode_analytical_twoitem_riskaverse_scale(::ForwardDiff.Dual{ForwardDiff.Tag{DiffEqDiffTools.TimeDerivativeWrapper{ODEFunction{false,typeof(ode_analytical_twoitem_riskaverse_scale_subs),LinearAlgebra.UniformScaling{Bool},Nothing,Nothing,Nothing,Nothing,Nothing,Nothing,Nothing,Nothing,Nothing,Nothing,Nothing},Float64,DiffEqBase.NullParameters},Float64},Float64,1}, ::Float64, ::Array{Int64,1}, ::Array{Int64,1}, ::Array{Int64,1}, ::Float64, ::Array{Int64,1}) at ./In[17]:82",
      " [8] ode_analytical_twoitem_riskaverse_scale_subs(::Float64, ::DiffEqBase.NullParameters, ::ForwardDiff.Dual{ForwardDiff.Tag{DiffEqDiffTools.TimeDerivativeWrapper{ODEFunction{false,typeof(ode_analytical_twoitem_riskaverse_scale_subs),LinearAlgebra.UniformScaling{Bool},Nothing,Nothing,Nothing,Nothing,Nothing,Nothing,Nothing,Nothing,Nothing,Nothing,Nothing},Float64,DiffEqBase.NullParameters},Float64},Float64,1}) at ./In[19]:3",
      " [9] derivative at /Users/svass/.julia/packages/DiffEqBase/rSHBL/src/diffeqfunction.jl:219 [inlined]",
      " [10] perform_step!(::OrdinaryDiffEq.ODEIntegrator{Rodas4{0,false,DefaultLinSolve,DataType},false,Float64,Float64,DiffEqBase.NullParameters,Float64,Float64,Float64,Array{Float64,1},ODESolution{Float64,1,Array{Float64,1},Nothing,Nothing,Array{Float64,1},Array{Array{Float64,1},1},ODEProblem{Float64,Tuple{Float64,Float64},false,DiffEqBase.NullParameters,ODEFunction{false,typeof(ode_analytical_twoitem_riskaverse_scale_subs),LinearAlgebra.UniformScaling{Bool},Nothing,Nothing,Nothing,Nothing,Nothing,Nothing,Nothing,Nothing,Nothing,Nothing,Nothing},Base.Iterators.Pairs{Union{},Union{},Tuple{},NamedTuple{(),Tuple{}}},DiffEqBase.StandardODEProblem},Rodas4{0,false,DefaultLinSolve,DataType},OrdinaryDiffEq.InterpolationData{ODEFunction{false,typeof(ode_analytical_twoitem_riskaverse_scale_subs),LinearAlgebra.UniformScaling{Bool},Nothing,Nothing,Nothing,Nothing,Nothing,Nothing,Nothing,Nothing,Nothing,Nothing,Nothing},Array{Float64,1},Array{Float64,1},Array{Array{Float64,1},1},OrdinaryDiffEq.Rodas4ConstantCache{DiffEqDiffTools.TimeDerivativeWrapper{ODEFunction{false,typeof(ode_analytical_twoitem_riskaverse_scale_subs),LinearAlgebra.UniformScaling{Bool},Nothing,Nothing,Nothing,Nothing,Nothing,Nothing,Nothing,Nothing,Nothing,Nothing,Nothing},Float64,DiffEqBase.NullParameters},DiffEqDiffTools.UDerivativeWrapper{ODEFunction{false,typeof(ode_analytical_twoitem_riskaverse_scale_subs),LinearAlgebra.UniformScaling{Bool},Nothing,Nothing,Nothing,Nothing,Nothing,Nothing,Nothing,Nothing,Nothing,Nothing,Nothing},Float64,DiffEqBase.NullParameters},OrdinaryDiffEq.RodasTableau{Float64,Float64},Float64,Float64,DefaultLinSolve}},DiffEqBase.DEStats},ODEFunction{false,typeof(ode_analytical_twoitem_riskaverse_scale_subs),LinearAlgebra.UniformScaling{Bool},Nothing,Nothing,Nothing,Nothing,Nothing,Nothing,Nothing,Nothing,Nothing,Nothing,Nothing},OrdinaryDiffEq.Rodas4ConstantCache{DiffEqDiffTools.TimeDerivativeWrapper{ODEFunction{false,typeof(ode_analytical_twoitem_riskaverse_scale_subs),LinearAlgebra.UniformScaling{Bool},Nothing,Nothing,Nothing,Nothing,Nothing,Nothing,Nothing,Nothing,Nothing,Nothing,Nothing},Float64,DiffEqBase.NullParameters},DiffEqDiffTools.UDerivativeWrapper{ODEFunction{false,typeof(ode_analytical_twoitem_riskaverse_scale_subs),LinearAlgebra.UniformScaling{Bool},Nothing,Nothing,Nothing,Nothing,Nothing,Nothing,Nothing,Nothing,Nothing,Nothing,Nothing},Float64,DiffEqBase.NullParameters},OrdinaryDiffEq.RodasTableau{Float64,Float64},Float64,Float64,DefaultLinSolve},OrdinaryDiffEq.DEOptions{Float64,Float64,Float64,Float64,typeof(DiffEqBase.ODE_DEFAULT_NORM),typeof(LinearAlgebra.opnorm),CallbackSet{Tuple{},Tuple{}},typeof(DiffEqBase.ODE_DEFAULT_ISOUTOFDOMAIN),typeof(DiffEqBase.ODE_DEFAULT_PROG_MESSAGE),typeof(DiffEqBase.ODE_DEFAULT_UNSTABLE_CHECK),DataStructures.BinaryHeap{Float64,DataStructures.LessThan},DataStructures.BinaryHeap{Float64,DataStructures.LessThan},Nothing,Nothing,Int64,Array{Float64,1},Array{Float64,1},Array{Float64,1}},Float64,Float64,Nothing}, ::OrdinaryDiffEq.Rodas4ConstantCache{DiffEqDiffTools.TimeDerivativeWrapper{ODEFunction{false,typeof(ode_analytical_twoitem_riskaverse_scale_subs),LinearAlgebra.UniformScaling{Bool},Nothing,Nothing,Nothing,Nothing,Nothing,Nothing,Nothing,Nothing,Nothing,Nothing,Nothing},Float64,DiffEqBase.NullParameters},DiffEqDiffTools.UDerivativeWrapper{ODEFunction{false,typeof(ode_analytical_twoitem_riskaverse_scale_subs),LinearAlgebra.UniformScaling{Bool},Nothing,Nothing,Nothing,Nothing,Nothing,Nothing,Nothing,Nothing,Nothing,Nothing,Nothing},Float64,DiffEqBase.NullParameters},OrdinaryDiffEq.RodasTableau{Float64,Float64},Float64,Float64,DefaultLinSolve}, ::Bool) at /Users/svass/.julia/packages/OrdinaryDiffEq/6TJck/src/perform_step/rosenbrock_perform_step.jl:649",
      " [11] perform_step! at /Users/svass/.julia/packages/OrdinaryDiffEq/6TJck/src/perform_step/rosenbrock_perform_step.jl:618 [inlined]",
      " [12] solve!(::OrdinaryDiffEq.ODEIntegrator{Rodas4{0,false,DefaultLinSolve,DataType},false,Float64,Float64,DiffEqBase.NullParameters,Float64,Float64,Float64,Array{Float64,1},ODESolution{Float64,1,Array{Float64,1},Nothing,Nothing,Array{Float64,1},Array{Array{Float64,1},1},ODEProblem{Float64,Tuple{Float64,Float64},false,DiffEqBase.NullParameters,ODEFunction{false,typeof(ode_analytical_twoitem_riskaverse_scale_subs),LinearAlgebra.UniformScaling{Bool},Nothing,Nothing,Nothing,Nothing,Nothing,Nothing,Nothing,Nothing,Nothing,Nothing,Nothing},Base.Iterators.Pairs{Union{},Union{},Tuple{},NamedTuple{(),Tuple{}}},DiffEqBase.StandardODEProblem},Rodas4{0,false,DefaultLinSolve,DataType},OrdinaryDiffEq.InterpolationData{ODEFunction{false,typeof(ode_analytical_twoitem_riskaverse_scale_subs),LinearAlgebra.UniformScaling{Bool},Nothing,Nothing,Nothing,Nothing,Nothing,Nothing,Nothing,Nothing,Nothing,Nothing,Nothing},Array{Float64,1},Array{Float64,1},Array{Array{Float64,1},1},OrdinaryDiffEq.Rodas4ConstantCache{DiffEqDiffTools.TimeDerivativeWrapper{ODEFunction{false,typeof(ode_analytical_twoitem_riskaverse_scale_subs),LinearAlgebra.UniformScaling{Bool},Nothing,Nothing,Nothing,Nothing,Nothing,Nothing,Nothing,Nothing,Nothing,Nothing,Nothing},Float64,DiffEqBase.NullParameters},DiffEqDiffTools.UDerivativeWrapper{ODEFunction{false,typeof(ode_analytical_twoitem_riskaverse_scale_subs),LinearAlgebra.UniformScaling{Bool},Nothing,Nothing,Nothing,Nothing,Nothing,Nothing,Nothing,Nothing,Nothing,Nothing,Nothing},Float64,DiffEqBase.NullParameters},OrdinaryDiffEq.RodasTableau{Float64,Float64},Float64,Float64,DefaultLinSolve}},DiffEqBase.DEStats},ODEFunction{false,typeof(ode_analytical_twoitem_riskaverse_scale_subs),LinearAlgebra.UniformScaling{Bool},Nothing,Nothing,Nothing,Nothing,Nothing,Nothing,Nothing,Nothing,Nothing,Nothing,Nothing},OrdinaryDiffEq.Rodas4ConstantCache{DiffEqDiffTools.TimeDerivativeWrapper{ODEFunction{false,typeof(ode_analytical_twoitem_riskaverse_scale_subs),LinearAlgebra.UniformScaling{Bool},Nothing,Nothing,Nothing,Nothing,Nothing,Nothing,Nothing,Nothing,Nothing,Nothing,Nothing},Float64,DiffEqBase.NullParameters},DiffEqDiffTools.UDerivativeWrapper{ODEFunction{false,typeof(ode_analytical_twoitem_riskaverse_scale_subs),LinearAlgebra.UniformScaling{Bool},Nothing,Nothing,Nothing,Nothing,Nothing,Nothing,Nothing,Nothing,Nothing,Nothing,Nothing},Float64,DiffEqBase.NullParameters},OrdinaryDiffEq.RodasTableau{Float64,Float64},Float64,Float64,DefaultLinSolve},OrdinaryDiffEq.DEOptions{Float64,Float64,Float64,Float64,typeof(DiffEqBase.ODE_DEFAULT_NORM),typeof(LinearAlgebra.opnorm),CallbackSet{Tuple{},Tuple{}},typeof(DiffEqBase.ODE_DEFAULT_ISOUTOFDOMAIN),typeof(DiffEqBase.ODE_DEFAULT_PROG_MESSAGE),typeof(DiffEqBase.ODE_DEFAULT_UNSTABLE_CHECK),DataStructures.BinaryHeap{Float64,DataStructures.LessThan},DataStructures.BinaryHeap{Float64,DataStructures.LessThan},Nothing,Nothing,Int64,Array{Float64,1},Array{Float64,1},Array{Float64,1}},Float64,Float64,Nothing}) at /Users/svass/.julia/packages/OrdinaryDiffEq/6TJck/src/solve.jl:373",
      " [13] #__solve#331 at /Users/svass/.julia/packages/OrdinaryDiffEq/6TJck/src/solve.jl:5 [inlined]",
      " [14] (::DiffEqBase.var\"#kw##__solve\")(::NamedTuple{(:default_set, :alg_hints),Tuple{Bool,Array{Symbol,1}}}, ::typeof(DiffEqBase.__solve), ::ODEProblem{Float64,Tuple{Float64,Float64},false,DiffEqBase.NullParameters,ODEFunction{false,typeof(ode_analytical_twoitem_riskaverse_scale_subs),LinearAlgebra.UniformScaling{Bool},Nothing,Nothing,Nothing,Nothing,Nothing,Nothing,Nothing,Nothing,Nothing,Nothing,Nothing},Base.Iterators.Pairs{Union{},Union{},Tuple{},NamedTuple{(),Tuple{}}},DiffEqBase.StandardODEProblem}, ::Rodas4{0,false,DefaultLinSolve,DataType}) at ./none:0",
      " [15] #__solve#1(::Bool, ::Base.Iterators.Pairs{Symbol,Array{Symbol,1},Tuple{Symbol},NamedTuple{(:alg_hints,),Tuple{Array{Symbol,1}}}}, ::typeof(DiffEqBase.__solve), ::ODEProblem{Float64,Tuple{Float64,Float64},false,DiffEqBase.NullParameters,ODEFunction{false,typeof(ode_analytical_twoitem_riskaverse_scale_subs),LinearAlgebra.UniformScaling{Bool},Nothing,Nothing,Nothing,Nothing,Nothing,Nothing,Nothing,Nothing,Nothing,Nothing,Nothing},Base.Iterators.Pairs{Union{},Union{},Tuple{},NamedTuple{(),Tuple{}}},DiffEqBase.StandardODEProblem}, ::Nothing) at /Users/svass/.julia/packages/DifferentialEquations/9ez1L/src/default_solve.jl:7",
      " [16] #__solve at ./none:0 [inlined]",
      " [17] #__solve#447 at /Users/svass/.julia/packages/DiffEqBase/rSHBL/src/solve.jl:177 [inlined]",
      " [18] #__solve at ./none:0 [inlined]",
      " [19] #solve_call#442(::Base.Iterators.Pairs{Symbol,Array{Symbol,1},Tuple{Symbol},NamedTuple{(:alg_hints,),Tuple{Array{Symbol,1}}}}, ::typeof(DiffEqBase.solve_call), ::ODEProblem{Float64,Tuple{Float64,Float64},false,DiffEqBase.NullParameters,ODEFunction{false,typeof(ode_analytical_twoitem_riskaverse_scale_subs),LinearAlgebra.UniformScaling{Bool},Nothing,Nothing,Nothing,Nothing,Nothing,Nothing,Nothing,Nothing,Nothing,Nothing,Nothing},Base.Iterators.Pairs{Union{},Union{},Tuple{},NamedTuple{(),Tuple{}}},DiffEqBase.StandardODEProblem}) at /Users/svass/.julia/packages/DiffEqBase/rSHBL/src/solve.jl:38",
      " [20] #solve_call at ./none:0 [inlined]",
      " [21] #solve#443 at /Users/svass/.julia/packages/DiffEqBase/rSHBL/src/solve.jl:61 [inlined]",
      " [22] (::DiffEqBase.var\"#kw##solve\")(::NamedTuple{(:alg_hints,),Tuple{Array{Symbol,1}}}, ::typeof(DiffEqBase.solve), ::ODEProblem{Float64,Tuple{Float64,Float64},false,DiffEqBase.NullParameters,ODEFunction{false,typeof(ode_analytical_twoitem_riskaverse_scale_subs),LinearAlgebra.UniformScaling{Bool},Nothing,Nothing,Nothing,Nothing,Nothing,Nothing,Nothing,Nothing,Nothing,Nothing,Nothing},Base.Iterators.Pairs{Union{},Union{},Tuple{},NamedTuple{(),Tuple{}}},DiffEqBase.StandardODEProblem}) at ./none:0",
      " [23] top-level scope at In[20]:1"
     ]
    }
   ],
   "source": [
    "sol_riskaverse_scale = DifferentialEquations.solve(prob_riskaverse_scale,alg_hints=[:stiff])\n"
   ]
  },
  {
   "cell_type": "code",
   "execution_count": 21,
   "metadata": {},
   "outputs": [],
   "source": [
    "# smax_riskaverse_scale = getBoundarySMax_twoitem_riskaverse_scale(alpha_max, gamma, qa, qe , c, sigma_sq)\n",
    "\n",
    "# ode_analytical_twoitem_riskaverse_scale_subs(s, p, alpha) = ode_analytical_twoitem_riskaverse_scale(alpha, s, qa, qe, c, gamma, sigma_sq)\n",
    "# prob_riskaverse_scale = ODEProblem(ode_analytical_twoitem_riskaverse_scale_subs, smax_riskaverse_scale, alpha_span)\n",
    "# sol_riskaverse_scale = DifferentialEquations.solve(prob_riskaverse_scale,alg_hints=[:stiff])\n",
    "\n",
    "# cost_riskaverse_scale = [getExPostScore_riskaverse_scale(a, s, qa, qe, c, gamma, sigma_sq) for (a,s) in zip(sol_riskaverse_scale.t, sol_riskaverse_scale.u)]\n",
    "\n",
    "# Plots.plot(sol_riskaverse_scale.t, (cost_riskaverse_scale), color=\"red\", label = \"Scaling Auction: Risk Averse Bidders\")\n",
    "# Plots.plot!(title=\"Equilibrium Ex-Post Costs to the DOT\")\n",
    "# Plots.xlabel!(\"Bidder Types: Alpha\")\n",
    "# Plots.ylabel!(\"Ex-Post Cost\")\n",
    "# plot!(legend = :topleft)\n",
    "# # savefig(\"toy_example/figs/compare_cost_functions.png\")\n"
   ]
  },
  {
   "cell_type": "code",
   "execution_count": null,
   "metadata": {},
   "outputs": [],
   "source": []
  },
  {
   "cell_type": "code",
   "execution_count": null,
   "metadata": {},
   "outputs": [],
   "source": []
  }
 ],
 "metadata": {
  "kernelspec": {
   "display_name": "Julia 1.3.1",
   "language": "julia",
   "name": "julia-1.3"
  },
  "language_info": {
   "file_extension": ".jl",
   "mimetype": "application/julia",
   "name": "julia",
   "version": "1.3.1"
  }
 },
 "nbformat": 4,
 "nbformat_minor": 4
}
