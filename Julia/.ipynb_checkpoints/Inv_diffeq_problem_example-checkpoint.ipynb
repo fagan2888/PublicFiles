{
 "cells": [
  {
   "cell_type": "markdown",
   "metadata": {},
   "source": [
    "## Introduction\n",
    "This notebook presents a simple example of an ODE problem that I know can be solved as is. I would like to solve it in its 'inverse' form -- theoretically this is the same function, but I am struggling to get it working."
   ]
  },
  {
   "cell_type": "code",
   "execution_count": 1,
   "metadata": {},
   "outputs": [],
   "source": [
    "using JuMP\n",
    "using Ipopt\n",
    "using DataFrames, CSV\n",
    "using Parameters\n",
    "using DifferentialEquations\n",
    "using Distributions\n",
    "using NLsolve"
   ]
  },
  {
   "cell_type": "markdown",
   "metadata": {},
   "source": [
    "### The following are \"helper functions\". They are unchanged between the two versions"
   ]
  },
  {
   "cell_type": "code",
   "execution_count": 2,
   "metadata": {},
   "outputs": [
    {
     "data": {
      "text/plain": [
       "f_over_one_minus_F_uniform (generic function with 1 method)"
      ]
     },
     "execution_count": 2,
     "metadata": {},
     "output_type": "execute_result"
    }
   ],
   "source": [
    "## Helper Functions\n",
    "\n",
    "function getCE(gamma, alpha, s, q_b, q_e , c, sigma_sq)\n",
    "    b = getBidVec( gamma, alpha, s, q_b, q_e , c, sigma_sq)    \n",
    "\n",
    "    b_min_c = b - (alpha*c);\n",
    "\n",
    "    ce = (q_b' * b_min_c) - (gamma/2) * ((sigma_sq .* b_min_c)' * b_min_c)\n",
    "end\n",
    "\n",
    "function getBoundarySMax(alpha_max, gamma, q_b, q_e , c, sigma_sq)\n",
    "    function ce_fun(svec)\n",
    "        s_max_var = svec[1]\n",
    "        return getCE(gamma, alpha_max, s_max_var, q_b, q_e , c, sigma_sq) \n",
    "    end\n",
    "    starting_point = alpha_max*1.01*(c' * q_b)\n",
    "\n",
    "    s_max_sol = nlsolve(ce_fun, [starting_point]; inplace = false)\n",
    "    return s_max_sol.zero[1]\n",
    "end\n",
    "\n",
    "\n",
    "\n",
    "function getBidVec( gamma, alpha, s, q_b, q_e , c, sigma_sq)\n",
    "    # Compute the optimal unit bid vector for each score by solving the quadratic optimization problem\n",
    "    T = length(q_e)\n",
    "    if sum(sigma_sq) > 0\n",
    "\n",
    "        m = Model(Ipopt.Optimizer)\n",
    "        set_optimizer_attribute(m, \"print_level\", 0)\n",
    "\n",
    "        @variables m begin\n",
    "        b[i=1:T] >= 0\n",
    "        end\n",
    "\n",
    "        @objective( m,\n",
    "                    Max,\n",
    "                    (sum((q_b[i] * (b[i] - alpha*c[i]) - (gamma / 2) * sigma_sq[i] * (b[i] - alpha*c[i])^2) for i=1:T ))\n",
    "                 )\n",
    "\n",
    "              @constraint(m, sum( b[i] * q_e[i] for i=1:T ) == s)\n",
    "\n",
    "           optimize!(m)\n",
    "\n",
    "           b_min = value.(b)\n",
    "   else\n",
    "       (maxitem,maxindex) = findmax(q_b./q_e)\n",
    "       b_min = zeros(T)\n",
    "       b_min[maxindex] = s/q_e[maxindex]\n",
    "   end\n",
    "\n",
    "    return b_min\n",
    "\n",
    "end\n",
    "\n",
    "\n",
    "function getDbDs(gamma, alpha, b, q_b, q_e , c, sigma_sq)\n",
    "#     %Computes anayltical derivative of the optimal bid function of item t\n",
    "#     % w.r.t. score s given alpha\n",
    "\n",
    "    T = length(q_e)\n",
    "    pos_b = [ifelse(b[t] > 0, 1, 0) for t=1:T]\n",
    "\n",
    "    if (sum(sigma_sq) > 0)\n",
    "        denom = 1.0/(sum((q_e[t]^2 * pos_b[t]) / sigma_sq[t] for t in 1:T))\n",
    "        db_ds = [((q_e[t] * pos_b[t] / sigma_sq[t]) * denom) for t in 1:T]'\n",
    "    else\n",
    "        db_ds = [ifelse(b[t] > 0, (1.0/q_e[t]), 0) for t=1:T]'\n",
    "    end\n",
    "\n",
    "    return(db_ds)\n",
    "\n",
    "end\n",
    "\n",
    "function f_over_one_minus_F_uniform(z, a, b)\n",
    "    if z <= a \n",
    "        out = 0\n",
    "    elseif z >= b\n",
    "        out = 0\n",
    "    else \n",
    "        out =  1.0/(b - z) \n",
    "    end\n",
    "end\n"
   ]
  },
  {
   "cell_type": "markdown",
   "metadata": {},
   "source": [
    "### Here is the \"frontward\" ODE (that works -- uncomment the print line to see du)"
   ]
  },
  {
   "cell_type": "code",
   "execution_count": 3,
   "metadata": {},
   "outputs": [
    {
     "data": {
      "text/plain": [
       "ds_da_ode (generic function with 1 method)"
      ]
     },
     "execution_count": 3,
     "metadata": {},
     "output_type": "execute_result"
    }
   ],
   "source": [
    "function ds_da_ode( s, alpha, gamma, c, q_e, q_a, sigma_sq ) ## By the way, I couldn't get an in-place formulation of this to work\n",
    "                                                                ##  (see the end of the notebook -- not my main problem though)\n",
    "    b = getBidVec( gamma, alpha, s, q_a, q_e , c, sigma_sq)\n",
    "    db_ds = getDbDs( gamma, alpha, b, q_a, q_e , c, sigma_sq)\n",
    "\n",
    "    b_min_c = b - (alpha*c);\n",
    "\n",
    "    profit_ce = (q_a' * b_min_c) - (gamma)*0.5 * ((sigma_sq .* b_min_c)' * b_min_c)\n",
    "    profit_term = exp(gamma*profit_ce) - 1;\n",
    "\n",
    "    f_over_oneMinusF = f_over_one_minus_F_uniform(alpha, 0.5, 2.0)\n",
    "\n",
    "    dce = db_ds * ((gamma .* q_a) - (gamma^2 .* sigma_sq .* b_min_c) );\n",
    "    \n",
    "    ds_da = f_over_oneMinusF * profit_term / dce; # Note: this should be a scalar\n",
    "#     println(\"ds_da: \", ds_da)\n",
    "    \n",
    "    return(ds_da)\n",
    "\n",
    "end\n"
   ]
  },
  {
   "cell_type": "markdown",
   "metadata": {},
   "source": [
    "### Simple Numerical Example"
   ]
  },
  {
   "cell_type": "code",
   "execution_count": 4,
   "metadata": {},
   "outputs": [
    {
     "name": "stdout",
     "output_type": "stream",
     "text": [
      "\n",
      "******************************************************************************\n",
      "This program contains Ipopt, a library for large-scale nonlinear optimization.\n",
      " Ipopt is released as open source code under the Eclipse Public License (EPL).\n",
      "         For more information visit http://projects.coin-or.org/Ipopt\n",
      "******************************************************************************\n",
      "\n"
     ]
    },
    {
     "data": {
      "text/plain": [
       "retcode: Success\n",
       "Interpolation: specialized 2nd order \"free\" stiffness-aware interpolation\n",
       "t: 352-element Array{Float64,1}:\n",
       " 2.0               \n",
       " 1.9999955327240262\n",
       " 1.9999940375182141\n",
       " 1.9999848532038238\n",
       " 1.999973530876456 \n",
       " 1.9999289793374397\n",
       " 1.9997807959586216\n",
       " 1.9995998230587975\n",
       " 1.9992061525765428\n",
       " 1.9986377696629305\n",
       " 1.997730330980752 \n",
       " 1.9964993173161234\n",
       " 1.9948686765448682\n",
       " ⋮                 \n",
       " 0.5329076291496756\n",
       " 0.5297482260480739\n",
       " 0.5265888229464722\n",
       " 0.5234294198448706\n",
       " 0.5202700167432689\n",
       " 0.5171106136416672\n",
       " 0.5139512105400655\n",
       " 0.5107918074384639\n",
       " 0.5076324043368622\n",
       " 0.5044730012352605\n",
       " 0.5013135981336588\n",
       " 0.5               \n",
       "u: 352-element Array{Float64,1}:\n",
       " 1097.9867070962464 \n",
       " 1098.0887265142217 \n",
       " 1098.0611955926092 \n",
       " 1098.0113604203723 \n",
       " 1097.9957693836875 \n",
       " 1097.9730511793405 \n",
       " 1097.9275853824045 \n",
       " 1097.875173179889  \n",
       " 1097.7592381018837 \n",
       " 1097.5839434897146 \n",
       " 1097.2846923035122 \n",
       " 1096.842431628268  \n",
       " 1096.201396032643  \n",
       "    ⋮               \n",
       "  296.6716943365059 \n",
       "  294.93577744543114\n",
       "  293.19985680263096\n",
       "  291.463932417207  \n",
       "  289.7280043050016 \n",
       "  287.99207248346295\n",
       "  286.2561369740958 \n",
       "  284.5201977869571 \n",
       "  282.7842549326406 \n",
       "  281.0483084373658 \n",
       "  279.31235831106903\n",
       "  278.59059321892033"
      ]
     },
     "execution_count": 4,
     "metadata": {},
     "output_type": "execute_result"
    }
   ],
   "source": [
    "qa = [12; 40];\n",
    "qe = [10; 50];\n",
    "c = [5;10];\n",
    "sigmasq = [3, 5];\n",
    "gamma = 1.5;\n",
    "\n",
    "alpha_max = 2;\n",
    "alpha_min = 0.5;\n",
    "\n",
    "alpha_span = (alpha_max,alpha_min);\n",
    "\n",
    "s_max_computed = getBoundarySMax(alpha_max, gamma, qa, qe , c, sigmasq)\n",
    "\n",
    "ode_forward_subs(s, p, alpha) = ds_da_ode( s, alpha, gamma, c, qe, qa, sigmasq )\n",
    "ode_forward_prob = ODEProblem(ode_forward_subs, s_max_computed, alpha_span)\n",
    "\n",
    "sol_forward =  DifferentialEquations.solve(ode_forward_prob, Rosenbrock23(autodiff=false))\n",
    "\n"
   ]
  },
  {
   "cell_type": "markdown",
   "metadata": {},
   "source": [
    "## Now I'd like to solve the \"inverse\" of this ODE -- da_ds instead of ds_da \n",
    "### (I need this for a more complex version of the problem)"
   ]
  },
  {
   "cell_type": "code",
   "execution_count": 5,
   "metadata": {},
   "outputs": [
    {
     "data": {
      "text/plain": [
       "inverse_ds_da_ode (generic function with 1 method)"
      ]
     },
     "execution_count": 5,
     "metadata": {},
     "output_type": "execute_result"
    }
   ],
   "source": [
    "function inverse_ds_da_ode( s, alpha, gamma, c, q_e, q_a, sigma_sq )\n",
    "    \n",
    "    println(\"alpha: \", alpha, \"; s: \", s)\n",
    "    b = getBidVec( gamma, alpha, s, q_a, q_e , c, sigma_sq)\n",
    "    db_ds = getDbDs( gamma, alpha, b, q_a, q_e , c, sigma_sq)\n",
    "\n",
    "    b_min_c = b - (alpha*c);\n",
    "\n",
    "    profit_ce = (q_a' * b_min_c) - (gamma)*0.5 * ((sigma_sq .* b_min_c)' * b_min_c)\n",
    "    profit_term = exp(gamma*profit_ce) - 1;\n",
    "\n",
    "    f_over_oneMinusF = f_over_one_minus_F_uniform(alpha, 0.5, 2.0)\n",
    "\n",
    "    dce = db_ds * ((gamma .* q_a) - (gamma^2 .* sigma_sq .* b_min_c) );\n",
    "    \n",
    "    ds_da = f_over_oneMinusF * profit_term / dce; # Note: this should be a scalar\n",
    "    println(\"ds_da: \", ds_da)\n",
    "    \n",
    "    da_ds = ds_da < 0 ? 0 : 1.0 / ds_da\n",
    "    \n",
    "    return(da_ds)\n",
    "\n",
    "end"
   ]
  },
  {
   "cell_type": "code",
   "execution_count": 6,
   "metadata": {},
   "outputs": [
    {
     "name": "stdout",
     "output_type": "stream",
     "text": [
      "alpha: 0.5; s: 278.5905933915064\n",
      "ds_da: 0.0\n",
      "alpha: 0.5; s: 278.5905933915064\n",
      "ds_da: 0.0\n",
      "alpha: NaN; s: 278.5905933915064\n"
     ]
    },
    {
     "ename": "ErrorException",
     "evalue": "Invalid coefficient NaN on variable b[1].",
     "output_type": "error",
     "traceback": [
      "Invalid coefficient NaN on variable b[1].",
      "",
      "Stacktrace:",
      " [1] error(::String) at ./error.jl:33",
      " [2] _assert_isfinite(::GenericAffExpr{Float64,VariableRef}) at /Users/svass/.julia/packages/JuMP/CZ8vV/src/aff_expr.jl:330",
      " [3] _assert_isfinite(::GenericQuadExpr{Float64,VariableRef}) at /Users/svass/.julia/packages/JuMP/CZ8vV/src/quad_expr.jl:291",
      " [4] MathOptInterface.ScalarQuadraticFunction(::GenericQuadExpr{Float64,VariableRef}) at /Users/svass/.julia/packages/JuMP/CZ8vV/src/quad_expr.jl:355",
      " [5] moi_function at /Users/svass/.julia/packages/JuMP/CZ8vV/src/quad_expr.jl:363 [inlined]",
      " [6] set_objective_function at /Users/svass/.julia/packages/JuMP/CZ8vV/src/objective.jl:99 [inlined]",
      " [7] set_objective at /Users/svass/.julia/packages/JuMP/CZ8vV/src/objective.jl:113 [inlined]",
      " [8] macro expansion at /Users/svass/.julia/packages/JuMP/CZ8vV/src/macros.jl:747 [inlined]",
      " [9] getBidVec(::Float64, ::Float64, ::Float64, ::Array{Int64,1}, ::Array{Int64,1}, ::Array{Int64,1}, ::Array{Int64,1}) at ./In[2]:36",
      " [10] inverse_ds_da_ode(::Float64, ::Float64, ::Float64, ::Array{Int64,1}, ::Array{Int64,1}, ::Array{Int64,1}, ::Array{Int64,1}) at ./In[5]:4",
      " [11] ode_backward_subs(::Float64, ::DiffEqBase.NullParameters, ::Float64) at ./In[6]:8",
      " [12] (::ODEFunction{false,typeof(ode_backward_subs),LinearAlgebra.UniformScaling{Bool},Nothing,Nothing,Nothing,Nothing,Nothing,Nothing,Nothing,Nothing,Nothing,Nothing,Nothing})(::Float64, ::Vararg{Any,N} where N) at /Users/svass/.julia/packages/DiffEqBase/1yTcS/src/diffeqfunction.jl:248",
      " [13] ode_determine_initdt(::Float64, ::Float64, ::Float64, ::Float64, ::Float64, ::Float64, ::typeof(DiffEqBase.ODE_DEFAULT_NORM), ::ODEProblem{Float64,Tuple{Float64,Float64},false,DiffEqBase.NullParameters,ODEFunction{false,typeof(ode_backward_subs),LinearAlgebra.UniformScaling{Bool},Nothing,Nothing,Nothing,Nothing,Nothing,Nothing,Nothing,Nothing,Nothing,Nothing,Nothing},Base.Iterators.Pairs{Union{},Union{},Tuple{},NamedTuple{(),Tuple{}}},DiffEqBase.StandardODEProblem}, ::OrdinaryDiffEq.ODEIntegrator{Rosenbrock23{0,false,DefaultLinSolve,DataType},false,Float64,Nothing,Float64,DiffEqBase.NullParameters,Float64,Float64,Float64,Array{Float64,1},ODESolution{Float64,1,Array{Float64,1},Nothing,Nothing,Array{Float64,1},Array{Array{Float64,1},1},ODEProblem{Float64,Tuple{Float64,Float64},false,DiffEqBase.NullParameters,ODEFunction{false,typeof(ode_backward_subs),LinearAlgebra.UniformScaling{Bool},Nothing,Nothing,Nothing,Nothing,Nothing,Nothing,Nothing,Nothing,Nothing,Nothing,Nothing},Base.Iterators.Pairs{Union{},Union{},Tuple{},NamedTuple{(),Tuple{}}},DiffEqBase.StandardODEProblem},Rosenbrock23{0,false,DefaultLinSolve,DataType},OrdinaryDiffEq.InterpolationData{ODEFunction{false,typeof(ode_backward_subs),LinearAlgebra.UniformScaling{Bool},Nothing,Nothing,Nothing,Nothing,Nothing,Nothing,Nothing,Nothing,Nothing,Nothing,Nothing},Array{Float64,1},Array{Float64,1},Array{Array{Float64,1},1},OrdinaryDiffEq.Rosenbrock23ConstantCache{Float64,DiffEqBase.TimeDerivativeWrapper{ODEFunction{false,typeof(ode_backward_subs),LinearAlgebra.UniformScaling{Bool},Nothing,Nothing,Nothing,Nothing,Nothing,Nothing,Nothing,Nothing,Nothing,Nothing,Nothing},Float64,DiffEqBase.NullParameters},DiffEqBase.UDerivativeWrapper{ODEFunction{false,typeof(ode_backward_subs),LinearAlgebra.UniformScaling{Bool},Nothing,Nothing,Nothing,Nothing,Nothing,Nothing,Nothing,Nothing,Nothing,Nothing,Nothing},Float64,DiffEqBase.NullParameters},Float64,Float64,DefaultLinSolve}},DiffEqBase.DEStats},ODEFunction{false,typeof(ode_backward_subs),LinearAlgebra.UniformScaling{Bool},Nothing,Nothing,Nothing,Nothing,Nothing,Nothing,Nothing,Nothing,Nothing,Nothing,Nothing},OrdinaryDiffEq.Rosenbrock23ConstantCache{Float64,DiffEqBase.TimeDerivativeWrapper{ODEFunction{false,typeof(ode_backward_subs),LinearAlgebra.UniformScaling{Bool},Nothing,Nothing,Nothing,Nothing,Nothing,Nothing,Nothing,Nothing,Nothing,Nothing,Nothing},Float64,DiffEqBase.NullParameters},DiffEqBase.UDerivativeWrapper{ODEFunction{false,typeof(ode_backward_subs),LinearAlgebra.UniformScaling{Bool},Nothing,Nothing,Nothing,Nothing,Nothing,Nothing,Nothing,Nothing,Nothing,Nothing,Nothing},Float64,DiffEqBase.NullParameters},Float64,Float64,DefaultLinSolve},OrdinaryDiffEq.DEOptions{Float64,Float64,Float64,Float64,typeof(DiffEqBase.ODE_DEFAULT_NORM),typeof(LinearAlgebra.opnorm),CallbackSet{Tuple{},Tuple{}},typeof(DiffEqBase.ODE_DEFAULT_ISOUTOFDOMAIN),typeof(DiffEqBase.ODE_DEFAULT_PROG_MESSAGE),typeof(DiffEqBase.ODE_DEFAULT_UNSTABLE_CHECK),DataStructures.BinaryHeap{Float64,DataStructures.LessThan},DataStructures.BinaryHeap{Float64,DataStructures.LessThan},Nothing,Nothing,Int64,Array{Float64,1},Array{Float64,1},Array{Float64,1}},Float64,Float64,Nothing,OrdinaryDiffEq.DefaultInit}) at /Users/svass/.julia/packages/OrdinaryDiffEq/4fSNW/src/initdt.jl:149",
      " [14] auto_dt_reset!(::OrdinaryDiffEq.ODEIntegrator{Rosenbrock23{0,false,DefaultLinSolve,DataType},false,Float64,Nothing,Float64,DiffEqBase.NullParameters,Float64,Float64,Float64,Array{Float64,1},ODESolution{Float64,1,Array{Float64,1},Nothing,Nothing,Array{Float64,1},Array{Array{Float64,1},1},ODEProblem{Float64,Tuple{Float64,Float64},false,DiffEqBase.NullParameters,ODEFunction{false,typeof(ode_backward_subs),LinearAlgebra.UniformScaling{Bool},Nothing,Nothing,Nothing,Nothing,Nothing,Nothing,Nothing,Nothing,Nothing,Nothing,Nothing},Base.Iterators.Pairs{Union{},Union{},Tuple{},NamedTuple{(),Tuple{}}},DiffEqBase.StandardODEProblem},Rosenbrock23{0,false,DefaultLinSolve,DataType},OrdinaryDiffEq.InterpolationData{ODEFunction{false,typeof(ode_backward_subs),LinearAlgebra.UniformScaling{Bool},Nothing,Nothing,Nothing,Nothing,Nothing,Nothing,Nothing,Nothing,Nothing,Nothing,Nothing},Array{Float64,1},Array{Float64,1},Array{Array{Float64,1},1},OrdinaryDiffEq.Rosenbrock23ConstantCache{Float64,DiffEqBase.TimeDerivativeWrapper{ODEFunction{false,typeof(ode_backward_subs),LinearAlgebra.UniformScaling{Bool},Nothing,Nothing,Nothing,Nothing,Nothing,Nothing,Nothing,Nothing,Nothing,Nothing,Nothing},Float64,DiffEqBase.NullParameters},DiffEqBase.UDerivativeWrapper{ODEFunction{false,typeof(ode_backward_subs),LinearAlgebra.UniformScaling{Bool},Nothing,Nothing,Nothing,Nothing,Nothing,Nothing,Nothing,Nothing,Nothing,Nothing,Nothing},Float64,DiffEqBase.NullParameters},Float64,Float64,DefaultLinSolve}},DiffEqBase.DEStats},ODEFunction{false,typeof(ode_backward_subs),LinearAlgebra.UniformScaling{Bool},Nothing,Nothing,Nothing,Nothing,Nothing,Nothing,Nothing,Nothing,Nothing,Nothing,Nothing},OrdinaryDiffEq.Rosenbrock23ConstantCache{Float64,DiffEqBase.TimeDerivativeWrapper{ODEFunction{false,typeof(ode_backward_subs),LinearAlgebra.UniformScaling{Bool},Nothing,Nothing,Nothing,Nothing,Nothing,Nothing,Nothing,Nothing,Nothing,Nothing,Nothing},Float64,DiffEqBase.NullParameters},DiffEqBase.UDerivativeWrapper{ODEFunction{false,typeof(ode_backward_subs),LinearAlgebra.UniformScaling{Bool},Nothing,Nothing,Nothing,Nothing,Nothing,Nothing,Nothing,Nothing,Nothing,Nothing,Nothing},Float64,DiffEqBase.NullParameters},Float64,Float64,DefaultLinSolve},OrdinaryDiffEq.DEOptions{Float64,Float64,Float64,Float64,typeof(DiffEqBase.ODE_DEFAULT_NORM),typeof(LinearAlgebra.opnorm),CallbackSet{Tuple{},Tuple{}},typeof(DiffEqBase.ODE_DEFAULT_ISOUTOFDOMAIN),typeof(DiffEqBase.ODE_DEFAULT_PROG_MESSAGE),typeof(DiffEqBase.ODE_DEFAULT_UNSTABLE_CHECK),DataStructures.BinaryHeap{Float64,DataStructures.LessThan},DataStructures.BinaryHeap{Float64,DataStructures.LessThan},Nothing,Nothing,Int64,Array{Float64,1},Array{Float64,1},Array{Float64,1}},Float64,Float64,Nothing,OrdinaryDiffEq.DefaultInit}) at /Users/svass/.julia/packages/OrdinaryDiffEq/4fSNW/src/integrators/integrator_interface.jl:297",
      " [15] handle_dt!(::OrdinaryDiffEq.ODEIntegrator{Rosenbrock23{0,false,DefaultLinSolve,DataType},false,Float64,Nothing,Float64,DiffEqBase.NullParameters,Float64,Float64,Float64,Array{Float64,1},ODESolution{Float64,1,Array{Float64,1},Nothing,Nothing,Array{Float64,1},Array{Array{Float64,1},1},ODEProblem{Float64,Tuple{Float64,Float64},false,DiffEqBase.NullParameters,ODEFunction{false,typeof(ode_backward_subs),LinearAlgebra.UniformScaling{Bool},Nothing,Nothing,Nothing,Nothing,Nothing,Nothing,Nothing,Nothing,Nothing,Nothing,Nothing},Base.Iterators.Pairs{Union{},Union{},Tuple{},NamedTuple{(),Tuple{}}},DiffEqBase.StandardODEProblem},Rosenbrock23{0,false,DefaultLinSolve,DataType},OrdinaryDiffEq.InterpolationData{ODEFunction{false,typeof(ode_backward_subs),LinearAlgebra.UniformScaling{Bool},Nothing,Nothing,Nothing,Nothing,Nothing,Nothing,Nothing,Nothing,Nothing,Nothing,Nothing},Array{Float64,1},Array{Float64,1},Array{Array{Float64,1},1},OrdinaryDiffEq.Rosenbrock23ConstantCache{Float64,DiffEqBase.TimeDerivativeWrapper{ODEFunction{false,typeof(ode_backward_subs),LinearAlgebra.UniformScaling{Bool},Nothing,Nothing,Nothing,Nothing,Nothing,Nothing,Nothing,Nothing,Nothing,Nothing,Nothing},Float64,DiffEqBase.NullParameters},DiffEqBase.UDerivativeWrapper{ODEFunction{false,typeof(ode_backward_subs),LinearAlgebra.UniformScaling{Bool},Nothing,Nothing,Nothing,Nothing,Nothing,Nothing,Nothing,Nothing,Nothing,Nothing,Nothing},Float64,DiffEqBase.NullParameters},Float64,Float64,DefaultLinSolve}},DiffEqBase.DEStats},ODEFunction{false,typeof(ode_backward_subs),LinearAlgebra.UniformScaling{Bool},Nothing,Nothing,Nothing,Nothing,Nothing,Nothing,Nothing,Nothing,Nothing,Nothing,Nothing},OrdinaryDiffEq.Rosenbrock23ConstantCache{Float64,DiffEqBase.TimeDerivativeWrapper{ODEFunction{false,typeof(ode_backward_subs),LinearAlgebra.UniformScaling{Bool},Nothing,Nothing,Nothing,Nothing,Nothing,Nothing,Nothing,Nothing,Nothing,Nothing,Nothing},Float64,DiffEqBase.NullParameters},DiffEqBase.UDerivativeWrapper{ODEFunction{false,typeof(ode_backward_subs),LinearAlgebra.UniformScaling{Bool},Nothing,Nothing,Nothing,Nothing,Nothing,Nothing,Nothing,Nothing,Nothing,Nothing,Nothing},Float64,DiffEqBase.NullParameters},Float64,Float64,DefaultLinSolve},OrdinaryDiffEq.DEOptions{Float64,Float64,Float64,Float64,typeof(DiffEqBase.ODE_DEFAULT_NORM),typeof(LinearAlgebra.opnorm),CallbackSet{Tuple{},Tuple{}},typeof(DiffEqBase.ODE_DEFAULT_ISOUTOFDOMAIN),typeof(DiffEqBase.ODE_DEFAULT_PROG_MESSAGE),typeof(DiffEqBase.ODE_DEFAULT_UNSTABLE_CHECK),DataStructures.BinaryHeap{Float64,DataStructures.LessThan},DataStructures.BinaryHeap{Float64,DataStructures.LessThan},Nothing,Nothing,Int64,Array{Float64,1},Array{Float64,1},Array{Float64,1}},Float64,Float64,Nothing,OrdinaryDiffEq.DefaultInit}) at /Users/svass/.julia/packages/OrdinaryDiffEq/4fSNW/src/solve.jl:449",
      " [16] #__init#358(::Array{Float64,1}, ::Array{Float64,1}, ::Array{Float64,1}, ::Nothing, ::Bool, ::Bool, ::Bool, ::Bool, ::Nothing, ::Bool, ::Bool, ::Float64, ::Nothing, ::Float64, ::Bool, ::Bool, ::Rational{Int64}, ::Nothing, ::Nothing, ::Rational{Int64}, ::Int64, ::Int64, ::Rational{Int64}, ::Rational{Int64}, ::Bool, ::Int64, ::Nothing, ::Nothing, ::Int64, ::typeof(DiffEqBase.ODE_DEFAULT_NORM), ::typeof(LinearAlgebra.opnorm), ::typeof(DiffEqBase.ODE_DEFAULT_ISOUTOFDOMAIN), ::typeof(DiffEqBase.ODE_DEFAULT_UNSTABLE_CHECK), ::Bool, ::Bool, ::Bool, ::Bool, ::Bool, ::Bool, ::Bool, ::Int64, ::String, ::typeof(DiffEqBase.ODE_DEFAULT_PROG_MESSAGE), ::Nothing, ::Bool, ::Bool, ::Bool, ::Bool, ::OrdinaryDiffEq.DefaultInit, ::Base.Iterators.Pairs{Union{},Union{},Tuple{},NamedTuple{(),Tuple{}}}, ::typeof(DiffEqBase.__init), ::ODEProblem{Float64,Tuple{Float64,Float64},false,DiffEqBase.NullParameters,ODEFunction{false,typeof(ode_backward_subs),LinearAlgebra.UniformScaling{Bool},Nothing,Nothing,Nothing,Nothing,Nothing,Nothing,Nothing,Nothing,Nothing,Nothing,Nothing},Base.Iterators.Pairs{Union{},Union{},Tuple{},NamedTuple{(),Tuple{}}},DiffEqBase.StandardODEProblem}, ::Rosenbrock23{0,false,DefaultLinSolve,DataType}, ::Array{Float64,1}, ::Array{Float64,1}, ::Array{Any,1}, ::Type{Val{true}}) at /Users/svass/.julia/packages/OrdinaryDiffEq/4fSNW/src/solve.jl:412",
      " [17] __init(::ODEProblem{Float64,Tuple{Float64,Float64},false,DiffEqBase.NullParameters,ODEFunction{false,typeof(ode_backward_subs),LinearAlgebra.UniformScaling{Bool},Nothing,Nothing,Nothing,Nothing,Nothing,Nothing,Nothing,Nothing,Nothing,Nothing,Nothing},Base.Iterators.Pairs{Union{},Union{},Tuple{},NamedTuple{(),Tuple{}}},DiffEqBase.StandardODEProblem}, ::Rosenbrock23{0,false,DefaultLinSolve,DataType}, ::Array{Float64,1}, ::Array{Float64,1}, ::Array{Any,1}, ::Type{Val{true}}) at /Users/svass/.julia/packages/OrdinaryDiffEq/4fSNW/src/solve.jl:67 (repeats 5 times)",
      " [18] #__solve#357 at /Users/svass/.julia/packages/OrdinaryDiffEq/4fSNW/src/solve.jl:4 [inlined]",
      " [19] __solve at /Users/svass/.julia/packages/OrdinaryDiffEq/4fSNW/src/solve.jl:4 [inlined]",
      " [20] (::DiffEqBase.var\"#464#465\"{ODEProblem{Float64,Tuple{Float64,Float64},false,DiffEqBase.NullParameters,ODEFunction{false,typeof(ode_backward_subs),LinearAlgebra.UniformScaling{Bool},Nothing,Nothing,Nothing,Nothing,Nothing,Nothing,Nothing,Nothing,Nothing,Nothing,Nothing},Base.Iterators.Pairs{Union{},Union{},Tuple{},NamedTuple{(),Tuple{}}},DiffEqBase.StandardODEProblem},Tuple{Rosenbrock23{0,false,DefaultLinSolve,DataType}}})() at /Users/svass/.julia/packages/DiffEqBase/1yTcS/src/solve.jl:49",
      " [21] maybe_with_logger at /Users/svass/.julia/packages/DiffEqBase/1yTcS/src/utils.jl:259 [inlined]",
      " [22] #solve_call#463(::Bool, ::Base.Iterators.Pairs{Union{},Union{},Tuple{},NamedTuple{(),Tuple{}}}, ::typeof(DiffEqBase.solve_call), ::ODEProblem{Float64,Tuple{Float64,Float64},false,DiffEqBase.NullParameters,ODEFunction{false,typeof(ode_backward_subs),LinearAlgebra.UniformScaling{Bool},Nothing,Nothing,Nothing,Nothing,Nothing,Nothing,Nothing,Nothing,Nothing,Nothing,Nothing},Base.Iterators.Pairs{Union{},Union{},Tuple{},NamedTuple{(),Tuple{}}},DiffEqBase.StandardODEProblem}, ::Rosenbrock23{0,false,DefaultLinSolve,DataType}) at /Users/svass/.julia/packages/DiffEqBase/1yTcS/src/solve.jl:48",
      " [23] solve_call at /Users/svass/.julia/packages/DiffEqBase/1yTcS/src/solve.jl:37 [inlined]",
      " [24] #solve#466 at /Users/svass/.julia/packages/DiffEqBase/1yTcS/src/solve.jl:66 [inlined]",
      " [25] solve(::ODEProblem{Float64,Tuple{Float64,Float64},false,DiffEqBase.NullParameters,ODEFunction{false,typeof(ode_backward_subs),LinearAlgebra.UniformScaling{Bool},Nothing,Nothing,Nothing,Nothing,Nothing,Nothing,Nothing,Nothing,Nothing,Nothing,Nothing},Base.Iterators.Pairs{Union{},Union{},Tuple{},NamedTuple{(),Tuple{}}},DiffEqBase.StandardODEProblem}, ::Rosenbrock23{0,false,DefaultLinSolve,DataType}) at /Users/svass/.julia/packages/DiffEqBase/1yTcS/src/solve.jl:54",
      " [26] top-level scope at In[6]:10"
     ]
    }
   ],
   "source": [
    "s_min_from_forward_solve = 278.5905933915064\n",
    "\n",
    "alpha_init = alpha_min\n",
    "\n",
    "s_span = (s_min_from_forward_solve, s_max_computed)\n",
    "\n",
    "\n",
    "ode_backward_subs(alpha, p, s) = inverse_ds_da_ode( s, alpha, gamma, c, qe, qa, sigmasq )\n",
    "ode_backward_prob = ODEProblem(ode_backward_subs, alpha_init, s_span)\n",
    "\n",
    "sol_backward =  DifferentialEquations.solve(ode_backward_prob, Rosenbrock23(autodiff=false))\n",
    "\n"
   ]
  },
  {
   "cell_type": "markdown",
   "metadata": {},
   "source": [
    "### By the way, I couldn't figure out why this formulation wouldn't work: -- Really seems like it should..."
   ]
  },
  {
   "cell_type": "code",
   "execution_count": 7,
   "metadata": {},
   "outputs": [
    {
     "ename": "MethodError",
     "evalue": "MethodError: no method matching similar(::Float64)\nClosest candidates are:\n  similar(!Matched::ZMQ.Message, !Matched::Type{T}, !Matched::Tuple{Vararg{Int64,N}} where N) where T at /Users/svass/.julia/packages/ZMQ/KdNw3/src/message.jl:93\n  similar(!Matched::BenchmarkTools.BenchmarkGroup) at /Users/svass/.julia/packages/BenchmarkTools/eCEpo/src/groups.jl:24\n  similar(!Matched::DataFrames.StackedVector, !Matched::Type, !Matched::Union{Integer, AbstractUnitRange}...) at /Users/svass/.julia/packages/DataFrames/S3ZFo/src/abstractdataframe/reshape.jl:329\n  ...",
     "output_type": "error",
     "traceback": [
      "MethodError: no method matching similar(::Float64)\nClosest candidates are:\n  similar(!Matched::ZMQ.Message, !Matched::Type{T}, !Matched::Tuple{Vararg{Int64,N}} where N) where T at /Users/svass/.julia/packages/ZMQ/KdNw3/src/message.jl:93\n  similar(!Matched::BenchmarkTools.BenchmarkGroup) at /Users/svass/.julia/packages/BenchmarkTools/eCEpo/src/groups.jl:24\n  similar(!Matched::DataFrames.StackedVector, !Matched::Type, !Matched::Union{Integer, AbstractUnitRange}...) at /Users/svass/.julia/packages/DataFrames/S3ZFo/src/abstractdataframe/reshape.jl:329\n  ...",
      "",
      "Stacktrace:",
      " [1] build_J_W(::Rosenbrock23{0,false,DefaultLinSolve,DataType}, ::Float64, ::Float64, ::Array{Any,1}, ::Float64, ::Float64, ::Function, ::Type, ::Val{true}) at /Users/svass/.julia/packages/OrdinaryDiffEq/4fSNW/src/derivative_utils.jl:546",
      " [2] alg_cache(::Rosenbrock23{0,false,DefaultLinSolve,DataType}, ::Float64, ::Float64, ::Type, ::Type, ::Type, ::Float64, ::Float64, ::ODEFunction{true,typeof(ds_da_ode!),LinearAlgebra.UniformScaling{Bool},Nothing,Nothing,Nothing,Nothing,Nothing,Nothing,Nothing,Nothing,Nothing,Nothing,Nothing}, ::Float64, ::Float64, ::Float64, ::Array{Any,1}, ::Bool, ::Val{true}) at /Users/svass/.julia/packages/OrdinaryDiffEq/4fSNW/src/caches/rosenbrock_caches.jl:67",
      " [3] #__init#358(::Array{Float64,1}, ::Array{Float64,1}, ::Array{Float64,1}, ::Nothing, ::Bool, ::Bool, ::Bool, ::Bool, ::Nothing, ::Bool, ::Bool, ::Float64, ::Nothing, ::Float64, ::Bool, ::Bool, ::Rational{Int64}, ::Nothing, ::Nothing, ::Rational{Int64}, ::Int64, ::Int64, ::Rational{Int64}, ::Rational{Int64}, ::Bool, ::Int64, ::Nothing, ::Nothing, ::Int64, ::typeof(DiffEqBase.ODE_DEFAULT_NORM), ::typeof(LinearAlgebra.opnorm), ::typeof(DiffEqBase.ODE_DEFAULT_ISOUTOFDOMAIN), ::typeof(DiffEqBase.ODE_DEFAULT_UNSTABLE_CHECK), ::Bool, ::Bool, ::Bool, ::Bool, ::Bool, ::Bool, ::Bool, ::Int64, ::String, ::typeof(DiffEqBase.ODE_DEFAULT_PROG_MESSAGE), ::Nothing, ::Bool, ::Bool, ::Bool, ::Bool, ::OrdinaryDiffEq.DefaultInit, ::Base.Iterators.Pairs{Union{},Union{},Tuple{},NamedTuple{(),Tuple{}}}, ::typeof(DiffEqBase.__init), ::ODEProblem{Float64,Tuple{Float64,Float64},true,Array{Any,1},ODEFunction{true,typeof(ds_da_ode!),LinearAlgebra.UniformScaling{Bool},Nothing,Nothing,Nothing,Nothing,Nothing,Nothing,Nothing,Nothing,Nothing,Nothing,Nothing},Base.Iterators.Pairs{Union{},Union{},Tuple{},NamedTuple{(),Tuple{}}},DiffEqBase.StandardODEProblem}, ::Rosenbrock23{0,false,DefaultLinSolve,DataType}, ::Array{Float64,1}, ::Array{Float64,1}, ::Array{Any,1}, ::Type{Val{true}}) at /Users/svass/.julia/packages/OrdinaryDiffEq/4fSNW/src/solve.jl:270",
      " [4] __init(::ODEProblem{Float64,Tuple{Float64,Float64},true,Array{Any,1},ODEFunction{true,typeof(ds_da_ode!),LinearAlgebra.UniformScaling{Bool},Nothing,Nothing,Nothing,Nothing,Nothing,Nothing,Nothing,Nothing,Nothing,Nothing,Nothing},Base.Iterators.Pairs{Union{},Union{},Tuple{},NamedTuple{(),Tuple{}}},DiffEqBase.StandardODEProblem}, ::Rosenbrock23{0,false,DefaultLinSolve,DataType}, ::Array{Float64,1}, ::Array{Float64,1}, ::Array{Any,1}, ::Type{Val{true}}) at /Users/svass/.julia/packages/OrdinaryDiffEq/4fSNW/src/solve.jl:67 (repeats 5 times)",
      " [5] #__solve#357(::Base.Iterators.Pairs{Union{},Union{},Tuple{},NamedTuple{(),Tuple{}}}, ::typeof(DiffEqBase.__solve), ::ODEProblem{Float64,Tuple{Float64,Float64},true,Array{Any,1},ODEFunction{true,typeof(ds_da_ode!),LinearAlgebra.UniformScaling{Bool},Nothing,Nothing,Nothing,Nothing,Nothing,Nothing,Nothing,Nothing,Nothing,Nothing,Nothing},Base.Iterators.Pairs{Union{},Union{},Tuple{},NamedTuple{(),Tuple{}}},DiffEqBase.StandardODEProblem}, ::Rosenbrock23{0,false,DefaultLinSolve,DataType}) at /Users/svass/.julia/packages/OrdinaryDiffEq/4fSNW/src/solve.jl:4",
      " [6] __solve(::ODEProblem{Float64,Tuple{Float64,Float64},true,Array{Any,1},ODEFunction{true,typeof(ds_da_ode!),LinearAlgebra.UniformScaling{Bool},Nothing,Nothing,Nothing,Nothing,Nothing,Nothing,Nothing,Nothing,Nothing,Nothing,Nothing},Base.Iterators.Pairs{Union{},Union{},Tuple{},NamedTuple{(),Tuple{}}},DiffEqBase.StandardODEProblem}, ::Rosenbrock23{0,false,DefaultLinSolve,DataType}) at /Users/svass/.julia/packages/OrdinaryDiffEq/4fSNW/src/solve.jl:4",
      " [7] (::DiffEqBase.var\"#464#465\"{ODEProblem{Float64,Tuple{Float64,Float64},true,Array{Any,1},ODEFunction{true,typeof(ds_da_ode!),LinearAlgebra.UniformScaling{Bool},Nothing,Nothing,Nothing,Nothing,Nothing,Nothing,Nothing,Nothing,Nothing,Nothing,Nothing},Base.Iterators.Pairs{Union{},Union{},Tuple{},NamedTuple{(),Tuple{}}},DiffEqBase.StandardODEProblem},Tuple{Rosenbrock23{0,false,DefaultLinSolve,DataType}}})() at /Users/svass/.julia/packages/DiffEqBase/1yTcS/src/solve.jl:49",
      " [8] maybe_with_logger(::DiffEqBase.var\"#464#465\"{ODEProblem{Float64,Tuple{Float64,Float64},true,Array{Any,1},ODEFunction{true,typeof(ds_da_ode!),LinearAlgebra.UniformScaling{Bool},Nothing,Nothing,Nothing,Nothing,Nothing,Nothing,Nothing,Nothing,Nothing,Nothing,Nothing},Base.Iterators.Pairs{Union{},Union{},Tuple{},NamedTuple{(),Tuple{}}},DiffEqBase.StandardODEProblem},Tuple{Rosenbrock23{0,false,DefaultLinSolve,DataType}}}, ::Nothing) at /Users/svass/.julia/packages/DiffEqBase/1yTcS/src/utils.jl:259",
      " [9] #solve_call#463(::Bool, ::Base.Iterators.Pairs{Union{},Union{},Tuple{},NamedTuple{(),Tuple{}}}, ::typeof(DiffEqBase.solve_call), ::ODEProblem{Float64,Tuple{Float64,Float64},true,Array{Any,1},ODEFunction{true,typeof(ds_da_ode!),LinearAlgebra.UniformScaling{Bool},Nothing,Nothing,Nothing,Nothing,Nothing,Nothing,Nothing,Nothing,Nothing,Nothing,Nothing},Base.Iterators.Pairs{Union{},Union{},Tuple{},NamedTuple{(),Tuple{}}},DiffEqBase.StandardODEProblem}, ::Rosenbrock23{0,false,DefaultLinSolve,DataType}) at /Users/svass/.julia/packages/DiffEqBase/1yTcS/src/solve.jl:48",
      " [10] solve_call(::ODEProblem{Float64,Tuple{Float64,Float64},true,Array{Any,1},ODEFunction{true,typeof(ds_da_ode!),LinearAlgebra.UniformScaling{Bool},Nothing,Nothing,Nothing,Nothing,Nothing,Nothing,Nothing,Nothing,Nothing,Nothing,Nothing},Base.Iterators.Pairs{Union{},Union{},Tuple{},NamedTuple{(),Tuple{}}},DiffEqBase.StandardODEProblem}, ::Rosenbrock23{0,false,DefaultLinSolve,DataType}) at /Users/svass/.julia/packages/DiffEqBase/1yTcS/src/solve.jl:37",
      " [11] #solve#466(::Base.Iterators.Pairs{Union{},Union{},Tuple{},NamedTuple{(),Tuple{}}}, ::typeof(DiffEqBase.solve), ::ODEProblem{Float64,Tuple{Float64,Float64},true,Array{Any,1},ODEFunction{true,typeof(ds_da_ode!),LinearAlgebra.UniformScaling{Bool},Nothing,Nothing,Nothing,Nothing,Nothing,Nothing,Nothing,Nothing,Nothing,Nothing,Nothing},Base.Iterators.Pairs{Union{},Union{},Tuple{},NamedTuple{(),Tuple{}}},DiffEqBase.StandardODEProblem}, ::Rosenbrock23{0,false,DefaultLinSolve,DataType}) at /Users/svass/.julia/packages/DiffEqBase/1yTcS/src/solve.jl:66",
      " [12] solve(::ODEProblem{Float64,Tuple{Float64,Float64},true,Array{Any,1},ODEFunction{true,typeof(ds_da_ode!),LinearAlgebra.UniformScaling{Bool},Nothing,Nothing,Nothing,Nothing,Nothing,Nothing,Nothing,Nothing,Nothing,Nothing,Nothing},Base.Iterators.Pairs{Union{},Union{},Tuple{},NamedTuple{(),Tuple{}}},DiffEqBase.StandardODEProblem}, ::Rosenbrock23{0,false,DefaultLinSolve,DataType}) at /Users/svass/.julia/packages/DiffEqBase/1yTcS/src/solve.jl:54",
      " [13] top-level scope at In[7]:25"
     ]
    }
   ],
   "source": [
    "function ds_da_ode!( ds, s, p, alpha ) ## a for alpha\n",
    "\n",
    "    gamma, c, q_e, q_a, sigma_sq = p\n",
    "    \n",
    "    b = getBidVec( gamma, alpha, s, q_a, q_e , c, sigma_sq)\n",
    "    db_ds = getDbDs( gamma, alpha, b, q_a, q_e , c, sigma_sq)\n",
    "\n",
    "    b_min_c = b - (alpha*c);\n",
    "\n",
    "    profit_ce = (q_a' * b_min_c) - (gamma)*0.5 * ((sigma_sq .* b_min_c)' * b_min_c)\n",
    "    profit_term = exp(gamma*profit_ce) - 1;\n",
    "\n",
    "    f_over_oneMinusF = f_over_one_minus_F_uniform(alpha, 0.5, 2.0)\n",
    "\n",
    "    dce = db_ds * ((gamma .* q_a) - (gamma^2 .* sigma_sq .* b_min_c) );\n",
    "    \n",
    "    ds = f_over_oneMinusF * profit_term / dce; # Note: this should be a scalar\n",
    "    println(\"ds_da: \", ds)\n",
    "    \n",
    "\n",
    "end\n",
    "\n",
    "\n",
    "ode_forward_clean = ODEProblem(ds_da_ode!, s_max_computed, alpha_span, [gamma, c, qe, qa, sigmasq])\n",
    "sol_forward_clean =  DifferentialEquations.solve(ode_forward_clean, Rosenbrock23(autodiff=false))\n"
   ]
  },
  {
   "cell_type": "code",
   "execution_count": null,
   "metadata": {},
   "outputs": [],
   "source": []
  }
 ],
 "metadata": {
  "kernelspec": {
   "display_name": "Julia 1.3.1",
   "language": "julia",
   "name": "julia-1.3"
  },
  "language_info": {
   "file_extension": ".jl",
   "mimetype": "application/julia",
   "name": "julia",
   "version": "1.3.1"
  }
 },
 "nbformat": 4,
 "nbformat_minor": 4
}
