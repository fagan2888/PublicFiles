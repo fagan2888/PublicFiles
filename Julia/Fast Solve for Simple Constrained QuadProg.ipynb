{
 "cells": [
  {
   "cell_type": "markdown",
   "metadata": {},
   "source": [
    "A Dive Into the Constrained Portfolio Optimization Program\n",
    "---\n",
    "Consider a constrained quadratic program\n",
    "$$\n",
    "\\max\\limits_{\\{x_{i}\\}_i} \\sum_{i} a_{i} x_{i} - b_{i} x_{i}^{2} \\\\\n",
    "\\text{subject to }\n",
    "\\left\\{\\begin{array}{l}\n",
    "        \\sum_{i} q_{i} x_{i} = s  \\\\\n",
    "%         \\text{ and } \\\\\n",
    "        x_{i} \\geq 0  \\text{ for each } i \n",
    "    \\end{array}\\right.\n",
    "$$\n",
    "\n",
    "The primal formulation of this problem is\n",
    "$$\n",
    "\\max_{ \\{x_{i}\\}_{i}} \\min _{v}\\left\\{\\sum_{i} f_{i}(x)+v\\left(q^{\\prime} x-s\\right)\\right\\}\n",
    "$$\n",
    "\n",
    "$$\n",
    "\\text{ where } f_{i}(x) = a_{i} x-b_{i} x^{2}+p_i(x)\n",
    "$$\n",
    "\n",
    "$$\n",
    "\\text{and }  p_i(x) = \n",
    "\\left\\{ \\begin{array}{ll} \\infty & \\text{if } x_i < 0 \\\\ 0 & \\text{otherwise }\n",
    "\\end{array} \\right.\n",
    "$$\n",
    "\n",
    "where $v$ is the Lagrange multiplier on the linear constraint. \n",
    "\n",
    "We can instead solve the dual problem:\n",
    "$$ \\min_{v} \\underbrace{\\max_{ \\{x_{i}\\}_{i}} \\left\\{\\sum_{i} f_{i}(x)+v\\left(q^{\\prime} x-s\\right)\\right\\}}_\\text{$g(x)$} $$\n",
    "\n",
    "The First Order Conditions of $g(x)$ are given by\n",
    "$$\n",
    "\\frac{\\nabla_{i} g(x)}{\\partial x_{i}}=a_{i}-2 b x_{i}+v q_{i}=0\n",
    "$$\n",
    "\n",
    "$$\n",
    "\\text{And so, at the optimum } x_{i}^{*}=\\max \\left\\{\\frac{a_{i+} v q_{i}}{2 b_{i}}, 0\\right\\}.\n",
    "$$\n",
    "\n",
    "Substituting $x^{*}$ into the dual objective, we obtain:\n",
    "\n",
    "$$\n",
    "\\min_{v}\\left\\{\\sum_{i} h_{i}(x_{i}^{*})+v\\left(s\\right)\\right\\}\n",
    "$$\n",
    "\n",
    "$$\\text{where: }\n",
    "h_{i}(x_{i}^{*}) = \n",
    "\\left\\{ \\begin{array}{ll} \n",
    "\\frac{\\left(a_{i}+v q_{i}\\right)^{2}}{2 b_{i}}-b_{i}\\left(\\frac{a_{i}+vq_{i}}{2 b_{i}}\\right)^{2} & \\text{if } \n",
    "\\frac{a_{i} + v q_{i}}{2 b_{i}} > 0 \\\\\n",
    "0 & \\text{otherwise } \\end{array} \\right.\n",
    "$$\n",
    "\n",
    "$$ \\text{Simplifying: }\n",
    "h_{i}(x_{i}^{*}) =\n",
    "\\left\\{ \\begin{array}{ll}\n",
    "\\frac{1}{4 b_{i}}\\left(a_{i}+v q_{i}\\right)^{2} & \\text{if  } \\frac{a_{i} + v q_{i}}{2 b_{i}} > 0 \\\\\n",
    "0 & \\text{otherwise } \\end{array} \\right. $$\n",
    "\n",
    "Thus, the solution to the original problem is the $v_{k}^{*}$ that minimizes Equation $(*)$ with $k$ non-zero components with the form $x_{i}^{*} = \\frac{a_{i} + v_{k}^{*} q_{i}}{2 b_{i}}$.\n",
    "\n",
    "Noting that $\\frac{a_{i} + v q_{i}}{2 b_{i}} > 0 \\iff v > \\frac{-a_{i}}{q_{i}}$, we propose the following algorithm for solving the problem:\n",
    "\n",
    "1. Rank $\\{i\\}$ in order of $\\frac{-a_{i}}{q_{i}}$ (lowest to highest). \n",
    "Note that under this sorting, for any $\\tilde{v}$, if $\\tilde{v} \\leq \\frac{-a_{j}}{q_{j}}$ for some $j$, then $\\tilde{v} \\leq \\frac{-a_{k}}{q_{k}}$ for all $k > j$. \n",
    "\n",
    "2. For each $k$, let $\\tilde{v}_{k}$ to be the value of $v$ that minimizes $(*)$ on the interval $(\\frac{-a_{k}}{q_{k}}, \\frac{-a_{k+1}}{q_{k+1}}]$. Do a line search over $k$ to find the minizer.\n",
    "\n",
    "Note that for any $k$ in Step 2., there is a closed form solution to $\\tilde{v}_{k}$:\n",
    "$$\n",
    "\\tilde{v}_{k} = \\arg\\min\\limits_{v \\in \\left(\\frac{-a_{k}}{q_{k}}, \\frac{-a_{k+1}}{q_{k+1}} \\right] } \\left\\{ \\left[\\sum_{i \\leq k} \\frac{1}{4 b_{i}}\\left(a_{i}+\\tilde{v}_{k} q_{i}\\right)^{2}\\right] - \\tilde{v}_{k} s\\right\\}.\n",
    "$$\n",
    "\n",
    "This is a sum of quadratics (e.g. a quadratic), and so we find the optimum by taking the FOC:\n",
    "$$ \\tilde{v}_{k}^{*} =\n",
    "\\min\\left\\{ \\begin{array}{ll}\n",
    "\\frac{2 s - \\sum\\limits_{i \\leq k} \\frac{a_{i} q_{i}}{b_{i}}}{\\sum\\limits_{i \\leq k} \\frac{1}{b_{i}} q_{i}^{2}}\\\\\n",
    "\\end{array}, \\frac{-a_{k+1}}{q_{k+1}} \\right\\}.\n",
    "$$\n",
    "\n",
    "\n",
    "\n",
    "\n",
    "\n",
    "\n",
    "\n"
   ]
  },
  {
   "cell_type": "markdown",
   "metadata": {},
   "source": [
    "## Julia Implementation"
   ]
  },
  {
   "cell_type": "code",
   "execution_count": 11,
   "metadata": {},
   "outputs": [
    {
     "data": {
      "text/plain": [
       "quadprog_jumpSolve (generic function with 1 method)"
      ]
     },
     "execution_count": 11,
     "metadata": {},
     "output_type": "execute_result"
    }
   ],
   "source": [
    "using JuMP\n",
    "using Ipopt\n",
    "using Plots\n",
    "\n",
    "function quadprog_jumpSolve( a,b,q,s )\n",
    "    # Compute the optimal unit bid vector for each score by solving the quadratic optimization problem\n",
    "\n",
    "    m = Model(with_optimizer(Ipopt.Optimizer, print_level=0))\n",
    "    \n",
    "    @variables m begin\n",
    "        x[i=1:length(a)] >= 0\n",
    "    end\n",
    "    \n",
    "    @objective(m, Max, sum( (a[i]*x[i] - b[i]*(x[i])^2) for i=1:veclen ))\n",
    "    \n",
    "    @constraint(m, sum( x[i] * q[i] for i=1:length(q) ) == s)\n",
    "    \n",
    "    optimize!(m)\n",
    "    \n",
    "    answer = objective_value(m)\n",
    "    x_min = value.(x)\n",
    "    \n",
    "    return answer, x_min\n",
    "    \n",
    "end"
   ]
  },
  {
   "cell_type": "code",
   "execution_count": 60,
   "metadata": {},
   "outputs": [
    {
     "data": {
      "text/plain": [
       "quadprog_fastSolve (generic function with 4 methods)"
      ]
     },
     "execution_count": 60,
     "metadata": {},
     "output_type": "execute_result"
    }
   ],
   "source": [
    "mutable struct Bid\n",
    "    init_index::Int64\n",
    "    a::Float64\n",
    "    b::Float64\n",
    "    q::Float64\n",
    "    a_over_q::Float64\n",
    "end\n",
    "\n",
    "function quadprog_fastSolve(a,b,q, s, detail = false)\n",
    "    num_bids = length(a)\n",
    "    bidvec = [Bid(i, a[i],b[i],q[i],(a[i]/q[i])) for i=1:num_bids ]\n",
    "    sorted_bids = sort(bidvec, by = x -> x.a_over_q, rev=true)\n",
    "    \n",
    "    if detail\n",
    "        println(\"sorted_bids: \")\n",
    "        for bid in sorted_bids\n",
    "            println(bid)\n",
    "        end\n",
    "        \n",
    "    end\n",
    "    \n",
    "    function x_star(bid, v)\n",
    "        out = (bid.a + v * bid.q)/(2*bid.b) \n",
    "    end\n",
    "\n",
    "    function v_k_star(k_plus_one)\n",
    "        include = [i < k_plus_one ? 1 : 0 for i=1:num_bids]\n",
    "        sum_1 = sum( include[i] * (sorted_bids[i].a * sorted_bids[i].q)/(sorted_bids[i].b)  for i=1:num_bids)\n",
    "        sum_2 = sum( include[i] * (sorted_bids[i].q * sorted_bids[i].q)/(sorted_bids[i].b)  for i=1:num_bids)\n",
    "        out_temp = sum(include) > 0 ? (2*s - sum_1)/sum_2 : 0\n",
    "        out = k_plus_one <= num_bids ? min(out_temp, -sorted_bids[k_plus_one].a_over_q) : out_temp\n",
    "        return(out)\n",
    "    end\n",
    "\n",
    "    function dual_eval(v)\n",
    "        include = [-bid.a_over_q <= v ? 1 : 0 for bid in sorted_bids]\n",
    "        x_stars = [include[i]*x_star(sorted_bids[i], v) for i=1:num_bids]\n",
    "        out = sum( include[i] * ((sorted_bids[i].a + v*sorted_bids[i].q)^2/(4*sorted_bids[i].b) ) for i=1:num_bids) - v*s\n",
    "        return(out, x_stars)\n",
    "    end\n",
    "        \n",
    "    v_ks = [v_k_star(k) for k=1:(num_bids+1)]\n",
    "    duals = [dual_eval(v_k) for v_k in v_ks]\n",
    "    \n",
    "    if detail\n",
    "        println(\"\\nv_ks: \", v_ks)\n",
    "        println(\"dual obj: \", [duals[i][1] for i=1:length(duals)])\n",
    "    end\n",
    "    \n",
    "    sort!(duals, by = x -> x[1])\n",
    "    \n",
    "    opt = duals[1]\n",
    "    opt_val = opt[1]\n",
    "    x_star_sorted = opt[2]\n",
    "    x_star_orig_order = copy(x_star_sorted)\n",
    "    for i = 1:num_bids\n",
    "        bid = sorted_bids[i]\n",
    "        x_star_orig_order[bid.init_index] = x_star_sorted[i]\n",
    "    end\n",
    "    \n",
    "    return(opt_val, x_star_orig_order)\n",
    "    \n",
    "end"
   ]
  },
  {
   "cell_type": "code",
   "execution_count": 21,
   "metadata": {},
   "outputs": [
    {
     "name": "stdout",
     "output_type": "stream",
     "text": [
      "JuMP Solution: (-389.1551723425078, [11.206896555823395, 0.0, 4.7586206946314125])\n",
      "Our Solution: (-389.15517241379314, [11.206896551724139, -0.0, 4.758620689655174])\n"
     ]
    }
   ],
   "source": [
    "## A simple example\n",
    "a = -[3,50,52]\n",
    "b = [0.5,14,2]\n",
    "q = [1,3,5]\n",
    "s = 35\n",
    "\n",
    "println(\"JuMP Solution: \", quadprog_jumpSolve(a,b,q,s))\n",
    "\n",
    "println(\"Our Solution: \", quadprog_fastSolve(a,b,q,s))"
   ]
  },
  {
   "cell_type": "markdown",
   "metadata": {},
   "source": [
    "## Adding Constraints"
   ]
  },
  {
   "cell_type": "markdown",
   "metadata": {},
   "source": [
    "Suppose that we add item-specific constraints, so that our problem is:\n",
    "\n",
    "$$\n",
    "\\max\\limits_{\\{x_{i}\\}_i} \\sum_{i} a_{i} x_{i} - b_{i} x_{i}^{2} \\\\\n",
    "\\text{subject to }\n",
    "\\left\\{\\begin{array}{l}\n",
    "        \\sum_{i} q_{i} x_{i} = s  \\\\\n",
    "%         \\text{ and } \\\\\n",
    "        x_{i} \\geq r_i  \\text{ for each } i \n",
    "    \\end{array}\\right.\n",
    "$$\n",
    "\n",
    "where $r_i > 0$ is some (known) number for each component $i$."
   ]
  },
  {
   "cell_type": "markdown",
   "metadata": {},
   "source": [
    "To use our algorithm above, we simply transform $x$ into a new variable: $y = x - r$\n",
    "\n",
    "$$\n",
    "\\max\\limits_{\\{y_{i}\\}_i} \\sum_{i} a_{i} (y_{i} + r_{i}) - b_{i} (y_{i} + r_{i})^{2} \\\\\n",
    "\\text{subject to }\n",
    "\\left\\{\\begin{array}{l}\n",
    "        \\sum_{i} q_{i} (y_{i} + r_{i}) = s  \\\\\n",
    "%         \\text{ and } \\\\\n",
    "        y_{i} \\geq 0  \\text{ for each } i \n",
    "    \\end{array}\\right.\n",
    "$$\n",
    "\n",
    "Simplifying, we see that this fits right into our previous framework:\n",
    "\n",
    "$$\n",
    "\\max\\limits_{\\{y_{i}\\}_i} \\sum_{i} \\tilde{a}_{i} y_{i} - \\tilde{b}_{i} y_{i}^{2} + \\tilde{C}_{i} \\\\\n",
    "\\text{subject to }\n",
    "\\left\\{\\begin{array}{l}\n",
    "        \\sum_{i} q_{i} y_{i} = \\tilde{s}  \\\\\n",
    "        y_{i} \\geq 0  \\text{ for each } i \n",
    "    \\end{array}\\right.\\\\\n",
    "%     \n",
    "    \\text{where: }\n",
    "\\left\\{\\begin{array}{l}\n",
    "        \\tilde{a}_{i} = a_{i} - 2 b_{i} r_{i}  \\\\\n",
    "        \\tilde{b}_{i} = b_{i} \\\\\n",
    "        \\tilde{C}_{i} = a_{i} r_{i} - b_{i} r_{i}^2 \\\\\n",
    "        \\tilde{s} = s - \\sum_{i}{q_{i} r_{i}}\n",
    "    \\end{array}\\right.\n",
    "$$\n",
    "\n",
    "Note that $\\tilde{C}$ is a constant and so does not affect optimization.\n"
   ]
  },
  {
   "cell_type": "markdown",
   "metadata": {},
   "source": [
    "## Julia Implementation"
   ]
  },
  {
   "cell_type": "code",
   "execution_count": 17,
   "metadata": {},
   "outputs": [
    {
     "data": {
      "text/plain": [
       "quadprog_jumpSolve_constraints (generic function with 1 method)"
      ]
     },
     "execution_count": 17,
     "metadata": {},
     "output_type": "execute_result"
    }
   ],
   "source": [
    "function quadprog_jumpSolve_constraints( a,b,q,s,r )\n",
    "    # Compute the optimal unit bid vector for each score by solving the quadratic optimization problem\n",
    "\n",
    "    m = Model(with_optimizer(Ipopt.Optimizer, print_level=0))\n",
    "    \n",
    "    @variables m begin\n",
    "        x[i=1:length(a)] >= r[i]\n",
    "    end\n",
    "    \n",
    "    @objective(m, Max, sum( (a[i]*x[i] - b[i]*(x[i])^2) for i=1:veclen ))\n",
    "    \n",
    "    @constraint(m, sum( x[i] * q[i] for i=1:length(q) ) == s)\n",
    "    \n",
    "    optimize!(m)\n",
    "    \n",
    "    answer = objective_value(m)\n",
    "    x_min = value.(x)\n",
    "    \n",
    "    return answer, x_min\n",
    "    \n",
    "end"
   ]
  },
  {
   "cell_type": "code",
   "execution_count": 51,
   "metadata": {},
   "outputs": [
    {
     "data": {
      "text/plain": [
       "quadprog_fastSolve_constraints (generic function with 2 methods)"
      ]
     },
     "execution_count": 51,
     "metadata": {},
     "output_type": "execute_result"
    }
   ],
   "source": [
    "function quadprog_fastSolve_constraints(a,b,q,s,r, detail = false)\n",
    "    a_tilde =  a - 2*b.*r\n",
    "    b_tilde = b\n",
    "    s_tilde = s - sum(q[i]*r[i] for i=1:length(a))\n",
    "    \n",
    "    transformed_sol = quadprog_fastSolve(a_tilde,b_tilde,q,s_tilde)\n",
    "    transformed_obj =  transformed_sol[1]\n",
    "    raw_obj = transformed_obj + sum(a[i]*r[i] - b[i]*(r[i]^2) for i=1:length(a)) \n",
    "    \n",
    "    y = transformed_sol[2]\n",
    "    x = y + r\n",
    "    return(raw_obj, x)\n",
    "end"
   ]
  },
  {
   "cell_type": "code",
   "execution_count": 59,
   "metadata": {},
   "outputs": [
    {
     "name": "stdout",
     "output_type": "stream",
     "text": [
      "JuMP Solution: (-678.6034470852646, [12.448275870433951, 2.0, 6.310344837888006])\n",
      "Our Solution: (-678.6034482758621, [12.448275862068966, 2.0, 6.310344827586206])\n"
     ]
    }
   ],
   "source": [
    "## A simple example\n",
    "a = -[3,50,52]\n",
    "b = [0.5,14,2]\n",
    "q = [1,3,5]\n",
    "s = 50\n",
    "r = [2,2,2]\n",
    "\n",
    "veclen = length(a)\n",
    "\n",
    "println(\"JuMP Solution: \", quadprog_jumpSolve_constraints(a,b,q,s,r))\n",
    "\n",
    "println(\"Our Solution: \", quadprog_fastSolve_constraints(a,b,q,s,r ))"
   ]
  },
  {
   "cell_type": "code",
   "execution_count": null,
   "metadata": {},
   "outputs": [],
   "source": []
  }
 ],
 "metadata": {
  "kernelspec": {
   "display_name": "Julia 1.3.1",
   "language": "julia",
   "name": "julia-1.3"
  },
  "language_info": {
   "file_extension": ".jl",
   "mimetype": "application/julia",
   "name": "julia",
   "version": "1.3.1"
  }
 },
 "nbformat": 4,
 "nbformat_minor": 4
}
