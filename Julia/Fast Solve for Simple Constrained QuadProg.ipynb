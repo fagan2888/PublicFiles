{
 "cells": [
  {
   "cell_type": "markdown",
   "metadata": {},
   "source": [
    "A Dive Into the Constrained Portfolio Optimization Program\n",
    "---\n",
    "Consider a constrained quadratic program\n",
    "$$\n",
    "\\max\\limits_{\\{x_{i}\\}_i} \\sum_{i} a_{i} x_{i} - b_{i} x_{i}^{2} \\\\\n",
    "\\text{subject to }\n",
    "\\left\\{\\begin{array}{l}\n",
    "        \\sum_{i} q_{i} x_{i} = s  \\\\\n",
    "%         \\text{ and } \\\\\n",
    "        x_{i} \\geq 0  \\text{ for each } i \n",
    "    \\end{array}\\right.\n",
    "$$\n",
    "\n",
    "The primal formulation of this problem is\n",
    "$$\n",
    "\\max_{ \\{x_{i}\\}_{i}} \\min _{v}\\left\\{\\sum_{i} f_{i}(x)+v\\left(q^{\\prime} x-s\\right)\\right\\}\n",
    "$$\n",
    "\n",
    "$$\n",
    "\\text{ where } f_{i}(x) = a_{i} x-b_{i} x^{2}+p_i(x)\n",
    "$$\n",
    "\n",
    "$$\n",
    "\\text{and }  p_i(x) = \n",
    "\\left\\{ \\begin{array}{ll} \\infty & \\text{if } x_i < 0 \\\\ 0 & \\text{otherwise }\n",
    "\\end{array} \\right.\n",
    "$$\n",
    "\n",
    "where $v$ is the Lagrange multiplier on the linear constraint. \n",
    "\n",
    "We can instead solve the dual problem:\n",
    "$$ \\min_{v} \\underbrace{\\max_{ \\{x_{i}\\}_{i}} \\left\\{\\sum_{i} f_{i}(x)+v\\left(q^{\\prime} x-s\\right)\\right\\}}_\\text{$g(x)$} $$\n",
    "\n",
    "The First Order Conditions of $g(x)$ are given by\n",
    "$$\n",
    "\\frac{\\nabla_{i} g(x)}{\\partial x_{i}}=a_{i}-2 b x_{i}+v q_{i}=0\n",
    "$$\n",
    "\n",
    "$$\n",
    "\\text{And so, at the optimum } x_{i}^{*}=\\max \\left\\{\\frac{a_{i+} v q_{i}}{2 b_{i}}, 0\\right\\}.\n",
    "$$\n",
    "\n",
    "Substituting $x^{*}$ into the dual objective, we obtain:\n",
    "\n",
    "$$\n",
    "\\min_{v}\\left\\{\\sum_{i} h_{i}(x_{i}^{*})+v\\left(s\\right)\\right\\}\n",
    "$$\n",
    "\n",
    "$$\\text{where: }\n",
    "h_{i}(x_{i}^{*}) = \n",
    "\\left\\{ \\begin{array}{ll} \n",
    "\\frac{\\left(a_{i}+v q_{i}\\right)^{2}}{2 b_{i}}-b_{i}\\left(\\frac{a_{i}+vq_{i}}{2 b_{i}}\\right)^{2} & \\text{if } \n",
    "\\frac{a_{i} + v q_{i}}{2 b_{i}} > 0 \\\\\n",
    "0 & \\text{otherwise } \\end{array} \\right.\n",
    "$$\n",
    "\n",
    "$$ \\text{Simplifying: }\n",
    "h_{i}(x_{i}^{*}) =\n",
    "\\left\\{ \\begin{array}{ll}\n",
    "\\frac{1}{4 b_{i}}\\left(a_{i}+v q_{i}\\right)^{2} & \\text{if  } \\frac{a_{i} + v q_{i}}{2 b_{i}} > 0 \\\\\n",
    "0 & \\text{otherwise } \\end{array} \\right. $$\n",
    "\n",
    "Thus, the solution to the original problem is the $v_{k}^{*}$ that minimizes Equation $(*)$ with $k$ non-zero components with the form $x_{i}^{*} = \\frac{a_{i} + v_{k}^{*} q_{i}}{2 b_{i}}$.\n",
    "\n",
    "Noting that $\\frac{a_{i} + v q_{i}}{2 b_{i}} > 0 \\iff v > \\frac{-a_{i}}{q_{i}}$, we propose the following algorithm for solving the problem:\n",
    "\n",
    "1. Rank $\\{i\\}$ in order of $\\frac{-a_{i}}{q_{i}}$ (lowest to highest). \n",
    "Note that under this sorting, for any $\\tilde{v}$, if $\\tilde{v} \\leq \\frac{-a_{j}}{q_{j}}$ for some $j$, then $\\tilde{v} \\leq \\frac{-a_{k}}{q_{k}}$ for all $k > j$. \n",
    "\n",
    "2. For each $k$, let $\\tilde{v}_{k}$ to be the value of $v$ that minimizes $(*)$ on the interval $(\\frac{-a_{k}}{q_{k}}, \\frac{-a_{k+1}}{q_{k+1}}]$. Do a line search over $k$ to find the minizer.\n",
    "\n",
    "Note that for any $k$ in Step 2., there is a closed form solution to $\\tilde{v}_{k}$:\n",
    "$$\n",
    "\\tilde{v}_{k} = \\arg\\min\\limits_{v \\in \\left(\\frac{-a_{k}}{q_{k}}, \\frac{-a_{k+1}}{q_{k+1}} \\right] } \\left\\{ \\left[\\sum_{i \\leq k} \\frac{1}{4 b_{i}}\\left(a_{i}+\\tilde{v}_{k} q_{i}\\right)^{2}\\right] - \\tilde{v}_{k} s\\right\\}.\n",
    "$$\n",
    "\n",
    "This is a sum of quadratics (e.g. a quadratic), and so we find the optimum by taking the FOC:\n",
    "$$ \\tilde{v}_{k}^{*} =\n",
    "\\min\\left\\{ \\begin{array}{ll}\n",
    "\\frac{2 s - \\sum\\limits_{i \\leq k} \\frac{a_{i} q_{i}}{b_{i}}}{\\sum\\limits_{i \\leq k} \\frac{1}{b_{i}} q_{i}^{2}}\\\\\n",
    "\\end{array}, \\frac{-a_{k+1}}{q_{k+1}} \\right\\}.\n",
    "$$\n",
    "\n",
    "\n",
    "### Making this algorith more robust\n",
    "\n",
    "The algorithm above will work so long as $\\frac{a_{i+} v q_{i}}{2 b_{i}}$ is well defined -- that is so long as $b_i > 0$. When there is (at least one) element $i$ such that $b_i = 0$ (and so it is linear), the optimal solution will stop propagating $v_k$'s as soon as it hits the first linear element in the $-a_i/q_i$ rank order. At that point (say the linear element is the $k$th one): $v_k = -a_k/q_k$ and $x_k = \\frac{s - \\sum\\limits_{i \\leq k} q_i x^{\\ast}_{i}}{q_k}$.\n",
    "\n",
    "\n",
    "\n",
    "\n"
   ]
  },
  {
   "cell_type": "markdown",
   "metadata": {},
   "source": [
    "## Julia Implementation"
   ]
  },
  {
   "cell_type": "code",
   "execution_count": 6,
   "metadata": {},
   "outputs": [
    {
     "data": {
      "text/plain": [
       "quadprog_jumpSolve (generic function with 1 method)"
      ]
     },
     "execution_count": 6,
     "metadata": {},
     "output_type": "execute_result"
    }
   ],
   "source": [
    "using JuMP\n",
    "using Ipopt\n",
    "using Plots\n",
    "\n",
    "function quadprog_jumpSolve( a,b,q,s )\n",
    "    # Compute the optimal unit bid vector for each score by solving the quadratic optimization problem\n",
    "\n",
    "    m = Model(optimizer_with_attributes(Ipopt.Optimizer,  \"print_level\"=>0))\n",
    "    \n",
    "    @variables m begin\n",
    "        x[i=1:length(a)] >= 0\n",
    "    end\n",
    "    \n",
    "    @objective(m, Max, sum( (a[i]*x[i] - b[i]*(x[i])^2) for i=1:length(a) ))\n",
    "    \n",
    "    @constraint(m, sum( x[i] * q[i] for i=1:length(q) ) == s)\n",
    "    \n",
    "    optimize!(m)\n",
    "    \n",
    "    answer = objective_value(m)\n",
    "    x_min = value.(x)\n",
    "    \n",
    "    return answer, x_min\n",
    "    \n",
    "end"
   ]
  },
  {
   "cell_type": "code",
   "execution_count": 73,
   "metadata": {},
   "outputs": [
    {
     "data": {
      "text/plain": [
       "quadprog_exactSolve (generic function with 2 methods)"
      ]
     },
     "execution_count": 73,
     "metadata": {},
     "output_type": "execute_result"
    }
   ],
   "source": [
    "mutable struct Bid\n",
    "    init_index::Int64\n",
    "    a::Float64\n",
    "    b::Float64\n",
    "    q::Float64\n",
    "    a_over_q::Float64\n",
    "end\n",
    "\n",
    "function quadprog_exactSolve(a,b,q, s, detail = false)\n",
    "    num_bids = length(a)\n",
    "    bidvec = [Bid(i, a[i],b[i],q[i],(a[i]/q[i])) for i=1:num_bids ]\n",
    "    sorted_bids = sort(bidvec, by = x -> x.a_over_q, rev=true)\n",
    "    \n",
    "    if detail\n",
    "        println(\"sorted_bids: \")\n",
    "        for bid in sorted_bids\n",
    "            println(bid)\n",
    "        end\n",
    "        \n",
    "    end\n",
    "    \n",
    "    ## Save sorted vector for faster calculations\n",
    "    sorted_a = [sorted_bids[i].a for i=1:num_bids]\n",
    "    sorted_b = [sorted_bids[i].b for i=1:num_bids]\n",
    "    sorted_q = [sorted_bids[i].q for i=1:num_bids]\n",
    "    min_sorted_a_over_q = [-sorted_bids[i].a_over_q for i=1:num_bids]\n",
    "    min_sorted_a_over_q_nxt = [0.0 for i = 1:num_bids]\n",
    "    \n",
    "    for i=1:(num_bids-1)\n",
    "        min_sorted_a_over_q_nxt[i] = min_sorted_a_over_q[i+1]\n",
    "    end\n",
    "    min_sorted_a_over_q_nxt[num_bids] = Inf\n",
    "\n",
    "\n",
    "    ## Compute v_ks\n",
    "    t1 = sorted_a .* sorted_q ./ sorted_b\n",
    "    t2 = sorted_q.^2 ./ sorted_b\n",
    "    t1_acc = accumulate(+, t1)\n",
    "    t2_acc = accumulate(+, t2)\n",
    "    \n",
    "    ## Set v_ks and handle cases where b_i = 0\n",
    "    xst_try = (2*s .- t1_acc) ./ t2_acc\n",
    "    v_ks = copy(xst_try)\n",
    "    v_ks = replace!(v_ks, NaN => Inf) \n",
    "    \n",
    "    \n",
    "    for i=1:(num_bids)\n",
    "        v_ks[i] = sorted_b[i] <= 0 ? min_sorted_a_over_q[i] : min.(xst_try[i], min_sorted_a_over_q_nxt[i])\n",
    "        if sorted_b[i] <= 0 ## only want to set the _first_ non-quad b\n",
    "            break\n",
    "        end\n",
    "    end\n",
    "    \n",
    "    ## Compute duals\n",
    "    function dual_eval(v)\n",
    "        x_stars = [0.0 for  i=1:num_bids]\n",
    "        dual_eval = 0\n",
    "        cum_qx = 0\n",
    "        for i=1:num_bids\n",
    "            if min_sorted_a_over_q[i] > v\n",
    "                break\n",
    "            end\n",
    "            if sorted_b[i] <= 0\n",
    "                x_stars[i] = (s-cum_qx)/sorted_q[i] \n",
    "                dual_eval += ( (sorted_a[i]/sorted_q[i]) + v ) * (s - cum_qx)\n",
    "                break\n",
    "            else\n",
    "                x_stars[i] = ( (sorted_a[i] + (v * sorted_q[i]) ) / (2 * sorted_b[i]) )\n",
    "                dual_eval += ( (sorted_a[i] + (v * sorted_q[i]) )^2 / (4 * sorted_b[i]) )\n",
    "                cum_qx +=  sorted_q[i]*x_stars[i]\n",
    "            end\n",
    "        end\n",
    "\n",
    "        out = dual_eval - v*s\n",
    "        return(out, x_stars)\n",
    "    end\n",
    "    \n",
    "    duals = [dual_eval(v_k) for v_k in v_ks]\n",
    "    \n",
    "    \n",
    "    if detail\n",
    "        println(\"v_ks: \", v_ks)\n",
    "        println(\"dual obj: \", [duals[i][1] for i=1:length(duals)])\n",
    "    end\n",
    "    \n",
    "    sort!(duals, by = x -> x[1])\n",
    "    \n",
    "    opt = duals[1]\n",
    "    opt_val = opt[1]\n",
    "    x_star_sorted = opt[2]\n",
    "    x_star_orig_order = copy(x_star_sorted)\n",
    "    for i = 1:num_bids\n",
    "        bid = sorted_bids[i]\n",
    "        x_star_orig_order[bid.init_index] = x_star_sorted[i]\n",
    "    end\n",
    "    \n",
    "    return(x_star_orig_order)\n",
    "    \n",
    "end\n"
   ]
  },
  {
   "cell_type": "code",
   "execution_count": 80,
   "metadata": {},
   "outputs": [
    {
     "name": "stdout",
     "output_type": "stream",
     "text": [
      "JuMP Solution: (-58.33333288834522, [0.0, 11.666666685944525, 0.0])\n",
      "sorted_bids: \n",
      "Bid(2, -5.0, -0.0, 3.0, -1.6666666666666667)\n",
      "Bid(1, -3.0, -0.0, 1.0, -3.0)\n",
      "Bid(3, -52.0, -0.4, 5.0, -10.4)\n",
      "v_ks: [1.6666666666666667, Inf, Inf]\n",
      "dual obj: [-58.333333333333336, NaN, NaN]\n",
      "Our Solution: [0.0, 11.666666666666666, 0.0]\n"
     ]
    }
   ],
   "source": [
    "## A simple example\n",
    "a = -[3,5,52]\n",
    "b = -[0.,0.,0.4]\n",
    "q = [1,3,5]\n",
    "s = 35\n",
    "\n",
    "println(\"JuMP Solution: \", quadprog_jumpSolve(a,b,q,s))\n",
    "\n",
    "println(\"Our Solution: \", quadprog_exactSolve(a,b,q,s, true))"
   ]
  },
  {
   "cell_type": "markdown",
   "metadata": {},
   "source": [
    "## Putting this to Bids"
   ]
  },
  {
   "cell_type": "code",
   "execution_count": 88,
   "metadata": {},
   "outputs": [
    {
     "data": {
      "text/plain": [
       "getOptimalBids (generic function with 2 methods)"
      ]
     },
     "execution_count": 88,
     "metadata": {},
     "output_type": "execute_result"
    }
   ],
   "source": [
    "function getOptimalBids(s, α, γ, W, c, p_bar, q_e ,sigma_sq)\n",
    "    \n",
    "    T = length(q_e)\n",
    "    R = (W + s) - α*sum(c[t]*q_e[t] for t=1:T);\n",
    "    R_sq = R^2;\n",
    "    gm = γ - 1;\n",
    "    \n",
    "    \n",
    "    b_tilde =  (R_sq*gm + 1)*(q_e .* q_e .* sigma_sq)\n",
    "    a_tilde = (R * (q_e .* (2*p_bar + sigma_sq)) + (2 * α * c) .* b_tilde )\n",
    "    s_tilde = s\n",
    "    q_tilde = q_e\n",
    "    \n",
    "    sol = quadprog_exactSolve(a_tilde,b_tilde,q_tilde,s_tilde)\n",
    "    \n",
    "    return(sol)\n",
    "end"
   ]
  },
  {
   "cell_type": "code",
   "execution_count": 89,
   "metadata": {},
   "outputs": [
    {
     "data": {
      "text/plain": [
       "2-element Array{Float64,1}:\n",
       " 3.0\n",
       " 0.0"
      ]
     },
     "execution_count": 89,
     "metadata": {},
     "output_type": "execute_result"
    }
   ],
   "source": [
    "s0 = 30\n",
    "α0 = 2.5\n",
    "γ0 = 0.5\n",
    "W0 = 0.0\n",
    "\n",
    "qa0 = [12; 40];\n",
    "qe0 = [10; 50];\n",
    "c0 = [5;10];\n",
    "sigmasq0 = [0.05,0.02];\n",
    "\n",
    "T0 = length(c0)\n",
    "pbar0 = [log(qa0[t]/qe0[t]) for t = 1:T0]\n",
    "\n",
    "getOptimalBids(s0, α0, γ0, W0, c0, pbar0, qe0 ,sigmasq0)"
   ]
  },
  {
   "cell_type": "code",
   "execution_count": 90,
   "metadata": {},
   "outputs": [
    {
     "data": {
      "text/plain": [
       "2-element Array{Float64,1}:\n",
       " 3.0\n",
       " 0.0"
      ]
     },
     "execution_count": 90,
     "metadata": {},
     "output_type": "execute_result"
    }
   ],
   "source": [
    "b_opt_of_s = x -> getOptimalBids(x,  α0, γ0, W0, c0, pbar0, qe0 ,sigmasq0)\n",
    "b_opt_of_s(s0)"
   ]
  },
  {
   "cell_type": "code",
   "execution_count": 92,
   "metadata": {},
   "outputs": [
    {
     "ename": "MethodError",
     "evalue": "MethodError: no method matching Float64(::ForwardDiff.Dual{ForwardDiff.Tag{var\"#446#447\",Int64},Float64,1})\nClosest candidates are:\n  Float64(::Real, !Matched::RoundingMode) where T<:AbstractFloat at rounding.jl:200\n  Float64(::T) where T<:Number at boot.jl:718\n  Float64(!Matched::Int8) at float.jl:60\n  ...",
     "output_type": "error",
     "traceback": [
      "MethodError: no method matching Float64(::ForwardDiff.Dual{ForwardDiff.Tag{var\"#446#447\",Int64},Float64,1})\nClosest candidates are:\n  Float64(::Real, !Matched::RoundingMode) where T<:AbstractFloat at rounding.jl:200\n  Float64(::T) where T<:Number at boot.jl:718\n  Float64(!Matched::Int8) at float.jl:60\n  ...",
      "",
      "Stacktrace:",
      " [1] convert(::Type{Float64}, ::ForwardDiff.Dual{ForwardDiff.Tag{var\"#446#447\",Int64},Float64,1}) at ./number.jl:7",
      " [2] Bid(::Int64, ::ForwardDiff.Dual{ForwardDiff.Tag{var\"#446#447\",Int64},Float64,1}, ::ForwardDiff.Dual{ForwardDiff.Tag{var\"#446#447\",Int64},Float64,1}, ::Int64, ::ForwardDiff.Dual{ForwardDiff.Tag{var\"#446#447\",Int64},Float64,1}) at ./In[73]:2",
      " [3] (::var\"#409#419\"{Array{ForwardDiff.Dual{ForwardDiff.Tag{var\"#446#447\",Int64},Float64,1},1},Array{ForwardDiff.Dual{ForwardDiff.Tag{var\"#446#447\",Int64},Float64,1},1},Array{Int64,1}})(::Int64) at ./none:0",
      " [4] iterate at ./generator.jl:47 [inlined]",
      " [5] collect at ./array.jl:622 [inlined]",
      " [6] quadprog_exactSolve(::Array{ForwardDiff.Dual{ForwardDiff.Tag{var\"#446#447\",Int64},Float64,1},1}, ::Array{ForwardDiff.Dual{ForwardDiff.Tag{var\"#446#447\",Int64},Float64,1},1}, ::Array{Int64,1}, ::ForwardDiff.Dual{ForwardDiff.Tag{var\"#446#447\",Int64},Int64,1}, ::Bool) at ./In[73]:11",
      " [7] quadprog_exactSolve at ./In[73]:10 [inlined]",
      " [8] getOptimalBids(::ForwardDiff.Dual{ForwardDiff.Tag{var\"#446#447\",Int64},Int64,1}, ::Float64, ::Float64, ::Float64, ::Array{Int64,1}, ::Array{Float64,1}, ::Array{Int64,1}, ::Array{Float64,1}) at ./In[88]:14",
      " [9] (::var\"#446#447\")(::ForwardDiff.Dual{ForwardDiff.Tag{var\"#446#447\",Int64},Int64,1}) at ./In[90]:1",
      " [10] derivative(::var\"#446#447\", ::Int64) at /Users/svass/.julia/packages/ForwardDiff/cXTw0/src/derivative.jl:14",
      " [11] top-level scope at In[92]:2"
     ]
    }
   ],
   "source": [
    "using ForwardDiff\n",
    "db_ds = ForwardDiff.derivative(b_opt_of_s, s0)"
   ]
  },
  {
   "cell_type": "markdown",
   "metadata": {},
   "source": [
    "## Adding Constraints"
   ]
  },
  {
   "cell_type": "markdown",
   "metadata": {},
   "source": [
    "Suppose that we add item-specific constraints, so that our problem is:\n",
    "\n",
    "$$\n",
    "\\max\\limits_{\\{x_{i}\\}_i} \\sum_{i} a_{i} x_{i} - b_{i} x_{i}^{2} \\\\\n",
    "\\text{subject to }\n",
    "\\left\\{\\begin{array}{l}\n",
    "        \\sum_{i} q_{i} x_{i} = s  \\\\\n",
    "%         \\text{ and } \\\\\n",
    "        x_{i} \\geq r_i  \\text{ for each } i \n",
    "    \\end{array}\\right.\n",
    "$$\n",
    "\n",
    "where $r_i > 0$ is some (known) number for each component $i$."
   ]
  },
  {
   "cell_type": "markdown",
   "metadata": {},
   "source": [
    "To use our algorithm above, we simply transform $x$ into a new variable: $y = x - r$\n",
    "\n",
    "$$\n",
    "\\max\\limits_{\\{y_{i}\\}_i} \\sum_{i} a_{i} (y_{i} + r_{i}) - b_{i} (y_{i} + r_{i})^{2} \\\\\n",
    "\\text{subject to }\n",
    "\\left\\{\\begin{array}{l}\n",
    "        \\sum_{i} q_{i} (y_{i} + r_{i}) = s  \\\\\n",
    "%         \\text{ and } \\\\\n",
    "        y_{i} \\geq 0  \\text{ for each } i \n",
    "    \\end{array}\\right.\n",
    "$$\n",
    "\n",
    "Simplifying, we see that this fits right into our previous framework:\n",
    "\n",
    "$$\n",
    "\\max\\limits_{\\{y_{i}\\}_i} \\sum_{i} \\tilde{a}_{i} y_{i} - \\tilde{b}_{i} y_{i}^{2} + \\tilde{C}_{i} \\\\\n",
    "\\text{subject to }\n",
    "\\left\\{\\begin{array}{l}\n",
    "        \\sum_{i} q_{i} y_{i} = \\tilde{s}  \\\\\n",
    "        y_{i} \\geq 0  \\text{ for each } i \n",
    "    \\end{array}\\right.\\\\\n",
    "%     \n",
    "    \\text{where: }\n",
    "\\left\\{\\begin{array}{l}\n",
    "        \\tilde{a}_{i} = a_{i} - 2 b_{i} r_{i}  \\\\\n",
    "        \\tilde{b}_{i} = b_{i} \\\\\n",
    "        \\tilde{C}_{i} = a_{i} r_{i} - b_{i} r_{i}^2 \\\\\n",
    "        \\tilde{s} = s - \\sum_{i}{q_{i} r_{i}}\n",
    "    \\end{array}\\right.\n",
    "$$\n",
    "\n",
    "Note that $\\tilde{C}$ is a constant and so does not affect optimization.\n"
   ]
  },
  {
   "cell_type": "markdown",
   "metadata": {},
   "source": [
    "## Julia Implementation"
   ]
  },
  {
   "cell_type": "code",
   "execution_count": 17,
   "metadata": {},
   "outputs": [
    {
     "data": {
      "text/plain": [
       "quadprog_jumpSolve_constraints (generic function with 1 method)"
      ]
     },
     "execution_count": 17,
     "metadata": {},
     "output_type": "execute_result"
    }
   ],
   "source": [
    "function quadprog_jumpSolve_constraints( a,b,q,s,r )\n",
    "    # Compute the optimal unit bid vector for each score by solving the quadratic optimization problem\n",
    "\n",
    "    m = Model(optimizer_with_attributes(Ipopt.Optimizer,  \"print_level\"=>0))\n",
    "    \n",
    "    @variables m begin\n",
    "        x[i=1:length(a)] >= r[i]\n",
    "    end\n",
    "    \n",
    "    @objective(m, Max, sum( (a[i]*x[i] - b[i]*(x[i])^2) for i=1:veclen ))\n",
    "    \n",
    "    @constraint(m, sum( x[i] * q[i] for i=1:length(q) ) == s)\n",
    "    \n",
    "    optimize!(m)\n",
    "    \n",
    "    answer = objective_value(m)\n",
    "    x_min = value.(x)\n",
    "    \n",
    "    return answer, x_min\n",
    "    \n",
    "end"
   ]
  },
  {
   "cell_type": "code",
   "execution_count": 51,
   "metadata": {},
   "outputs": [
    {
     "data": {
      "text/plain": [
       "quadprog_fastSolve_constraints (generic function with 2 methods)"
      ]
     },
     "execution_count": 51,
     "metadata": {},
     "output_type": "execute_result"
    }
   ],
   "source": [
    "function quadprog_fastSolve_constraints(a,b,q,s,r, detail = false)\n",
    "    a_tilde =  a - 2*b.*r\n",
    "    b_tilde = b\n",
    "    s_tilde = s - sum(q[i]*r[i] for i=1:length(a))\n",
    "    \n",
    "    transformed_sol = quadprog_fastSolve(a_tilde,b_tilde,q,s_tilde)\n",
    "    transformed_obj =  transformed_sol[1]\n",
    "    raw_obj = transformed_obj + sum(a[i]*r[i] - b[i]*(r[i]^2) for i=1:length(a)) \n",
    "    \n",
    "    y = transformed_sol[2]\n",
    "    x = y + r\n",
    "    return(raw_obj, x)\n",
    "end"
   ]
  },
  {
   "cell_type": "code",
   "execution_count": 59,
   "metadata": {},
   "outputs": [
    {
     "name": "stdout",
     "output_type": "stream",
     "text": [
      "JuMP Solution: (-678.6034470852646, [12.448275870433951, 2.0, 6.310344837888006])\n",
      "Our Solution: (-678.6034482758621, [12.448275862068966, 2.0, 6.310344827586206])\n"
     ]
    }
   ],
   "source": [
    "## A simple example\n",
    "a = -[3,50,52]\n",
    "b = [0.5,14,2]\n",
    "q = [1,3,5]\n",
    "s = 50\n",
    "r = [2,2,2]\n",
    "\n",
    "veclen = length(a)\n",
    "\n",
    "println(\"JuMP Solution: \", quadprog_jumpSolve_constraints(a,b,q,s,r))\n",
    "\n",
    "println(\"Our Solution: \", quadprog_fastSolve_constraints(a,b,q,s,r ))"
   ]
  },
  {
   "cell_type": "code",
   "execution_count": null,
   "metadata": {},
   "outputs": [],
   "source": []
  }
 ],
 "metadata": {
  "kernelspec": {
   "display_name": "Julia 1.3.1",
   "language": "julia",
   "name": "julia-1.3"
  },
  "language_info": {
   "file_extension": ".jl",
   "mimetype": "application/julia",
   "name": "julia",
   "version": "1.3.1"
  }
 },
 "nbformat": 4,
 "nbformat_minor": 4
}
